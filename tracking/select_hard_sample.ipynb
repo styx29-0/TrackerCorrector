{
 "cells": [
  {
   "cell_type": "code",
   "execution_count": 1,
   "metadata": {},
   "outputs": [],
   "source": [
    "import os\n",
    "import pickle\n",
    "import torch\n",
    "import matplotlib.pyplot as plt"
   ]
  },
  {
   "cell_type": "code",
   "execution_count": 2,
   "metadata": {},
   "outputs": [],
   "source": [
    "def get_auc_curve(ave_success_rate_plot_overlap, valid_sequence):\n",
    "    ave_success_rate_plot_overlap = ave_success_rate_plot_overlap[valid_sequence, :, :]\n",
    "    auc_curve = ave_success_rate_plot_overlap.mean(-1) * 100.0 # TODO 样本的均值\n",
    "    auc = auc_curve.mean(-1)\n",
    "\n",
    "    return auc_curve, auc"
   ]
  },
  {
   "cell_type": "code",
   "execution_count": 12,
   "metadata": {},
   "outputs": [
    {
     "name": "stdout",
     "output_type": "stream",
     "text": [
      "run999 auc:  tensor(69.4693)\n",
      "hard_sample_list:  ['bird-15', 'swing-14', 'yoyo-7', 'volleyball-19']\n"
     ]
    }
   ],
   "source": [
    "root = '/data/guohua/BeiJing/code/VideoX.back/SeqTrack/test/result_plots'\n",
    "tag = '280' # 1120, 280, 20, 16, 4 123 100\n",
    "dataset_name = 'lasot' # lasot uav nfs\n",
    "runid = '999'\n",
    "with open(os.path.join(root, dataset_name, f'eval_data_run999_{tag}.pkl'), 'rb') as f:\n",
    "    eval_data_exp = pickle.load(f)\n",
    "\n",
    "sample_list = eval_data_exp['sequences']\n",
    "# exp\n",
    "valid_sequence = torch.tensor(eval_data_exp['valid_sequence'], dtype=torch.bool)\n",
    "ave_success_rate_plot_overlap = torch.tensor(eval_data_exp['ave_success_rate_plot_overlap'])\n",
    "auc_curve_exp, auc_exp = get_auc_curve(ave_success_rate_plot_overlap, valid_sequence)\n",
    "\n",
    "print(f'run{runid.zfill(2)} auc: ', auc_curve_exp.mean())\n",
    "\n",
    "hard_sample_list = []\n",
    "# 找出auc_curve_exp(AUC) 0-10%的样本\n",
    "for i in range(len(auc_curve_exp)):\n",
    "    if auc_curve_exp[i] < 10:\n",
    "        hard_sample_list.append(sample_list[i])\n",
    "\n",
    "print('hard_sample_list: ', hard_sample_list)"
   ]
  },
  {
   "cell_type": "code",
   "execution_count": 15,
   "metadata": {},
   "outputs": [
    {
     "name": "stdout",
     "output_type": "stream",
     "text": [
      "sequence_list:  20\n"
     ]
    }
   ],
   "source": [
    "# 0%-10%样本 训练集 17个\n",
    "sequence_list = ['basketball-17', 'basketball-5', 'fox-16', 'gorilla-18', 'hat-19', 'microphone-12', 'microphone-7', 'mouse-14', 'robot-20', 'tank-8', 'volleyball-10', 'volleyball-2', 'volleyball-4', 'volleyball-5', 'yoyo-20', 'yoyo-6']\n",
    "\n",
    "# 0%-10%样本 测试集 4个\n",
    "sequence_list += ['bird-15', 'swing-14', 'yoyo-7', 'volleyball-19']\n",
    "\n",
    "print('sequence_list: ', len(sequence_list))"
   ]
  }
 ],
 "metadata": {
  "kernelspec": {
   "display_name": "seqtrack",
   "language": "python",
   "name": "python3"
  },
  "language_info": {
   "codemirror_mode": {
    "name": "ipython",
    "version": 3
   },
   "file_extension": ".py",
   "mimetype": "text/x-python",
   "name": "python",
   "nbconvert_exporter": "python",
   "pygments_lexer": "ipython3",
   "version": "3.8.19"
  }
 },
 "nbformat": 4,
 "nbformat_minor": 2
}
