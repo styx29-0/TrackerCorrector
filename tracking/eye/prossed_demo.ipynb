{
 "cells": [
  {
   "cell_type": "code",
   "execution_count": 76,
   "metadata": {},
   "outputs": [],
   "source": [
    "import os\n",
    "import pandas as pd\n",
    "import tqdm.notebook as tq"
   ]
  },
  {
   "cell_type": "code",
   "execution_count": 77,
   "metadata": {},
   "outputs": [],
   "source": [
    "folder_path = os.getcwd()\n",
    " \n",
    "# 获取当前文件夹下所有文件名\n",
    "file_names = [f for f in os.listdir(folder_path) if os.path.isfile(os.path.join(folder_path, f))]\n",
    " \n",
    "person_names=[name.split('.')[0] for name in file_names]"
   ]
  },
  {
   "cell_type": "code",
   "execution_count": 78,
   "metadata": {},
   "outputs": [],
   "source": [
    "eye_root_dir='/data/guohua/BeiJing/data/new_UAV123/UAV123/'\n",
    "data_dir=\"/data/guohua/BeiJing/data/UAV123/UAV_Lasot_struc\""
   ]
  },
  {
   "cell_type": "code",
   "execution_count": 72,
   "metadata": {},
   "outputs": [],
   "source": [
    "# 填充值\n",
    "fill_value = '-1'\n",
    "\n",
    "# key columns\n",
    "key_columns = [\n",
    "    'Participant name',\n",
    "    'Gaze point X',\n",
    "    'Gaze point Y',\n",
    "    'Gaze point left X',\n",
    "    'Gaze point left Y',\n",
    "    'Gaze point right X',\n",
    "    'Gaze point right Y',\n",
    "    'Gaze direction left X',\n",
    "    'Gaze direction left Y',\n",
    "    'Gaze direction left Z',\n",
    "    'Gaze direction right X',\n",
    "    'Gaze direction right Y',\n",
    "    'Gaze direction right Z',\n",
    "    'Pupil diameter left',\n",
    "    'Pupil diameter right',\n",
    "    'Pupil diameter filtered',\n",
    "    'Eye openness left',\n",
    "    'Eye openness right',\n",
    "    'Eye openness filtered',\n",
    "    'Validity left',\n",
    "    'Validity right',\n",
    "    'Eye position left X (DACSmm)',\n",
    "    'Eye position left Y (DACSmm)',\n",
    "    'Eye position left Z (DACSmm)',\n",
    "    'Eye position right X (DACSmm)',\n",
    "    'Eye position right Y (DACSmm)',\n",
    "    'Eye position right Z (DACSmm)',\n",
    "    'Gaze point left X (DACSmm)',\n",
    "    'Gaze point left Y (DACSmm)',\n",
    "    'Gaze point right X (DACSmm)',\n",
    "    'Gaze point right Y (DACSmm)',\n",
    "    'Gaze point X (MCSnorm)',\n",
    "    'Gaze point Y (MCSnorm)',\n",
    "    'Gaze point left X (MCSnorm)',\n",
    "    'Gaze point left Y (MCSnorm)',\n",
    "    'Gaze point right X (MCSnorm)',\n",
    "    'Gaze point right Y (MCSnorm)',\n",
    "    'Presented Stimulus name',\n",
    "    'Presented Media name',\n",
    "    'Presented Media width',\n",
    "    'Presented Media height',\n",
    "    'Presented Media position X (DACSpx)',\n",
    "    'Presented Media position Y (DACSpx)',\n",
    "    'Eye movement type',\n",
    "    'Gaze event duration',\n",
    "    'Eye movement type index',\n",
    "    'Fixation point X',\n",
    "    'Fixation point Y',\n",
    "    'Fixation point X (MCSnorm)',\n",
    "    'Fixation point Y (MCSnorm)',\n",
    "]\n",
    "# misc 列 表示一些混杂数据 单独存放\n",
    "misc_columns = [\n",
    "    'Recording timestamp',\n",
    "    'Computer timestamp',\n",
    "    'Sensor',\n",
    "    'Project name',\n",
    "    'Export date',\n",
    "    'Recording name',\n",
    "    'Recording date',\n",
    "    'Recording date UTC',\n",
    "    'Recording start time',\n",
    "    'Recording start time UTC',\n",
    "    'Recording duration',\n",
    "    'Timeline name',\n",
    "    'Recording Fixation filter name',\n",
    "    'Recording software version',\n",
    "    'Recording resolution height',\n",
    "    'Recording resolution width',\n",
    "    'Recording monitor latency',\n",
    "    'Average calibration accuracy (mm)',\n",
    "    'Average calibration precision SD (mm)',\n",
    "    'Average calibration precision RMS (mm)',\n",
    "    'Average calibration accuracy (degrees)',\n",
    "    'Average calibration precision SD (degrees)',\n",
    "    'Average calibration precision RMS (degrees)',\n",
    "    'Average calibration accuracy (pixels)',\n",
    "    'Average calibration precision SD (pixels)',\n",
    "    'Average calibration precision RMS (pixels)',\n",
    "    'Average validation accuracy (mm)',\n",
    "    'Average validation precision SD (mm)',\n",
    "    'Average validation precision RMS (mm)',\n",
    "    'Average validation accuracy (degrees)',\n",
    "    'Average validation precision SD (degrees)',\n",
    "    'Average validation precision RMS (degrees)',\n",
    "    'Average validation accuracy (pixels)',\n",
    "    'Average validation precision SD (pixels)',\n",
    "    'Average validation precision RMS (pixels)',\n",
    "    'Eyetracker timestamp',\n",
    "    'Event',\n",
    "    'Event value',\n",
    "]"
   ]
  },
  {
   "cell_type": "code",
   "execution_count": 73,
   "metadata": {},
   "outputs": [],
   "source": [
    "# 打开 txt 文件，将内容读取为列表\n",
    "with open('/data/guohua/BeiJing/data/UAV123/new_seq_names.txt', 'r') as file:\n",
    "    content = file.read()  # 读取整个文件的内容为一个字符串\n",
    "\n",
    "# 去除结尾的多余逗号（如果有的话），并将字符串按逗号分割为列表\n",
    "items = content.strip().split(',')\n",
    "\n",
    "# 去除每个元素的多余空格或换行符，以及两侧的引号\n",
    "clazz_list = [item.strip().strip('\"') for item in items]"
   ]
  },
  {
   "cell_type": "code",
   "execution_count": null,
   "metadata": {},
   "outputs": [
    {
     "data": {
      "application/vnd.jupyter.widget-view+json": {
       "model_id": "25d793ec67974208903755387ccd13cb",
       "version_major": 2,
       "version_minor": 0
      },
      "text/plain": [
       "person:   0%|          | 0/17 [00:00<?, ?it/s]"
      ]
     },
     "metadata": {},
     "output_type": "display_data"
    },
    {
     "name": "stderr",
     "output_type": "stream",
     "text": [
      "/tmp/ipykernel_904376/4268128985.py:3: DtypeWarning: Columns (37,38,76) have mixed types. Specify dtype option on import or set low_memory=False.\n",
      "  data=pd.read_csv(path, sep='\\t')\n"
     ]
    },
    {
     "data": {
      "application/vnd.jupyter.widget-view+json": {
       "model_id": "0c65cdae049041d7be17e79ab70e23c7",
       "version_major": 2,
       "version_minor": 0
      },
      "text/plain": [
       "Saving groups to TSV files:   0%|          | 0/94 [00:00<?, ?it/s]"
      ]
     },
     "metadata": {},
     "output_type": "display_data"
    },
    {
     "name": "stdout",
     "output_type": "stream",
     "text": [
      "Saved group  to file ../UAV123-prossesed/renwenhao/.tsv\n",
      "Saved group Eyetracker Calibration to file ../UAV123-prossesed/renwenhao/Eyetracker Calibration.tsv\n",
      "Saved group bike1 to file ../UAV123-prossesed/renwenhao/bike1.tsv\n",
      "Saved group bike2 to file ../UAV123-prossesed/renwenhao/bike2.tsv\n",
      "Saved group bike3 to file ../UAV123-prossesed/renwenhao/bike3.tsv\n",
      "Saved group bird1 to file ../UAV123-prossesed/renwenhao/bird1.tsv\n",
      "Saved group boat1 to file ../UAV123-prossesed/renwenhao/boat1.tsv\n",
      "Saved group boat2 to file ../UAV123-prossesed/renwenhao/boat2.tsv\n",
      "Saved group boat3 to file ../UAV123-prossesed/renwenhao/boat3.tsv\n",
      "Saved group boat4 to file ../UAV123-prossesed/renwenhao/boat4.tsv\n",
      "Saved group boat5 to file ../UAV123-prossesed/renwenhao/boat5.tsv\n",
      "Saved group boat6 to file ../UAV123-prossesed/renwenhao/boat6.tsv\n",
      "Saved group boat7 to file ../UAV123-prossesed/renwenhao/boat7.tsv\n",
      "Saved group boat8 to file ../UAV123-prossesed/renwenhao/boat8.tsv\n",
      "Saved group boat9 to file ../UAV123-prossesed/renwenhao/boat9.tsv\n",
      "Saved group building1 to file ../UAV123-prossesed/renwenhao/building1.tsv\n",
      "Saved group building2 to file ../UAV123-prossesed/renwenhao/building2.tsv\n",
      "Saved group building3 to file ../UAV123-prossesed/renwenhao/building3.tsv\n",
      "Saved group building4 to file ../UAV123-prossesed/renwenhao/building4.tsv\n",
      "Saved group building5 to file ../UAV123-prossesed/renwenhao/building5.tsv\n",
      "Saved group car1 to file ../UAV123-prossesed/renwenhao/car1.tsv\n",
      "Saved group car10 to file ../UAV123-prossesed/renwenhao/car10.tsv\n",
      "Saved group car11 to file ../UAV123-prossesed/renwenhao/car11.tsv\n",
      "Saved group car12 to file ../UAV123-prossesed/renwenhao/car12.tsv\n",
      "Saved group car13 to file ../UAV123-prossesed/renwenhao/car13.tsv\n",
      "Saved group car14 to file ../UAV123-prossesed/renwenhao/car14.tsv\n",
      "Saved group car15 to file ../UAV123-prossesed/renwenhao/car15.tsv\n",
      "Saved group car16 to file ../UAV123-prossesed/renwenhao/car16.tsv\n",
      "Saved group car17 to file ../UAV123-prossesed/renwenhao/car17.tsv\n",
      "Saved group car18 to file ../UAV123-prossesed/renwenhao/car18.tsv\n",
      "Saved group car1_s to file ../UAV123-prossesed/renwenhao/car1_s.tsv\n",
      "Saved group car2 to file ../UAV123-prossesed/renwenhao/car2.tsv\n",
      "Saved group car2_s to file ../UAV123-prossesed/renwenhao/car2_s.tsv\n",
      "Saved group car3 to file ../UAV123-prossesed/renwenhao/car3.tsv\n",
      "Saved group car3_s to file ../UAV123-prossesed/renwenhao/car3_s.tsv\n",
      "Saved group car4 to file ../UAV123-prossesed/renwenhao/car4.tsv\n",
      "Saved group car4_s to file ../UAV123-prossesed/renwenhao/car4_s.tsv\n",
      "Saved group car5 to file ../UAV123-prossesed/renwenhao/car5.tsv\n",
      "Saved group car6 to file ../UAV123-prossesed/renwenhao/car6.tsv\n",
      "Saved group car7 to file ../UAV123-prossesed/renwenhao/car7.tsv\n",
      "Saved group car8 to file ../UAV123-prossesed/renwenhao/car8.tsv\n",
      "Saved group car9 to file ../UAV123-prossesed/renwenhao/car9.tsv\n",
      "Saved group group1 to file ../UAV123-prossesed/renwenhao/group1.tsv\n",
      "Saved group group2 to file ../UAV123-prossesed/renwenhao/group2.tsv\n",
      "Saved group group3 to file ../UAV123-prossesed/renwenhao/group3.tsv\n",
      "Saved group person1 to file ../UAV123-prossesed/renwenhao/person1.tsv\n",
      "Saved group person10 to file ../UAV123-prossesed/renwenhao/person10.tsv\n",
      "Saved group person11 to file ../UAV123-prossesed/renwenhao/person11.tsv\n",
      "Saved group person12 to file ../UAV123-prossesed/renwenhao/person12.tsv\n",
      "Saved group person13 to file ../UAV123-prossesed/renwenhao/person13.tsv\n",
      "Saved group person14 to file ../UAV123-prossesed/renwenhao/person14.tsv\n",
      "Saved group person15 to file ../UAV123-prossesed/renwenhao/person15.tsv\n",
      "Saved group person16 to file ../UAV123-prossesed/renwenhao/person16.tsv\n",
      "Saved group person17 to file ../UAV123-prossesed/renwenhao/person17.tsv\n",
      "Saved group person18 to file ../UAV123-prossesed/renwenhao/person18.tsv\n",
      "Saved group person19 to file ../UAV123-prossesed/renwenhao/person19.tsv\n",
      "Saved group person1_s to file ../UAV123-prossesed/renwenhao/person1_s.tsv\n",
      "Saved group person2 to file ../UAV123-prossesed/renwenhao/person2.tsv\n",
      "Saved group person20 to file ../UAV123-prossesed/renwenhao/person20.tsv\n",
      "Saved group person21 to file ../UAV123-prossesed/renwenhao/person21.tsv\n",
      "Saved group person22 to file ../UAV123-prossesed/renwenhao/person22.tsv\n",
      "Saved group person23 to file ../UAV123-prossesed/renwenhao/person23.tsv\n",
      "Saved group person2_s to file ../UAV123-prossesed/renwenhao/person2_s.tsv\n",
      "Saved group person3 to file ../UAV123-prossesed/renwenhao/person3.tsv\n",
      "Saved group person3_s to file ../UAV123-prossesed/renwenhao/person3_s.tsv\n",
      "Saved group person4 to file ../UAV123-prossesed/renwenhao/person4.tsv\n",
      "Saved group person5 to file ../UAV123-prossesed/renwenhao/person5.tsv\n",
      "Saved group person6 to file ../UAV123-prossesed/renwenhao/person6.tsv\n",
      "Saved group person7 to file ../UAV123-prossesed/renwenhao/person7.tsv\n",
      "Saved group person8 to file ../UAV123-prossesed/renwenhao/person8.tsv\n",
      "Saved group person9 to file ../UAV123-prossesed/renwenhao/person9.tsv\n",
      "Saved group restImage to file ../UAV123-prossesed/renwenhao/restImage.tsv\n",
      "Saved group truck1 to file ../UAV123-prossesed/renwenhao/truck1.tsv\n",
      "Saved group truck2 to file ../UAV123-prossesed/renwenhao/truck2.tsv\n",
      "Saved group truck3 to file ../UAV123-prossesed/renwenhao/truck3.tsv\n",
      "Saved group truck4 to file ../UAV123-prossesed/renwenhao/truck4.tsv\n",
      "Saved group uav1 to file ../UAV123-prossesed/renwenhao/uav1.tsv\n",
      "Saved group uav2 to file ../UAV123-prossesed/renwenhao/uav2.tsv\n",
      "Saved group uav3 to file ../UAV123-prossesed/renwenhao/uav3.tsv\n",
      "Saved group uav4 to file ../UAV123-prossesed/renwenhao/uav4.tsv\n",
      "Saved group uav5 to file ../UAV123-prossesed/renwenhao/uav5.tsv\n",
      "Saved group uav6 to file ../UAV123-prossesed/renwenhao/uav6.tsv\n",
      "Saved group uav7 to file ../UAV123-prossesed/renwenhao/uav7.tsv\n",
      "Saved group uav8 to file ../UAV123-prossesed/renwenhao/uav8.tsv\n",
      "Saved group wakeboard1 to file ../UAV123-prossesed/renwenhao/wakeboard1.tsv\n",
      "Saved group wakeboard10 to file ../UAV123-prossesed/renwenhao/wakeboard10.tsv\n",
      "Saved group wakeboard2 to file ../UAV123-prossesed/renwenhao/wakeboard2.tsv\n",
      "Saved group wakeboard3 to file ../UAV123-prossesed/renwenhao/wakeboard3.tsv\n",
      "Saved group wakeboard4 to file ../UAV123-prossesed/renwenhao/wakeboard4.tsv\n",
      "Saved group wakeboard5 to file ../UAV123-prossesed/renwenhao/wakeboard5.tsv\n",
      "Saved group wakeboard6 to file ../UAV123-prossesed/renwenhao/wakeboard6.tsv\n",
      "Saved group wakeboard7 to file ../UAV123-prossesed/renwenhao/wakeboard7.tsv\n",
      "Saved group wakeboard8 to file ../UAV123-prossesed/renwenhao/wakeboard8.tsv\n",
      "Saved group wakeboard9 to file ../UAV123-prossesed/renwenhao/wakeboard9.tsv\n"
     ]
    },
    {
     "data": {
      "application/vnd.jupyter.widget-view+json": {
       "model_id": "9ec17bb631fa4e999347f895001bccb3",
       "version_major": 2,
       "version_minor": 0
      },
      "text/plain": [
       "bike1: 0it [00:00, ?it/s]"
      ]
     },
     "metadata": {},
     "output_type": "display_data"
    }
   ],
   "source": [
    "for person_name in tq.tqdm(person_names,desc='person'):\n",
    "    path=os.path.join(eye_root_dir, f'{person_name}.tsv')\n",
    "    data=pd.read_csv(path, sep='\\t')\n",
    "    data['Presented Stimulus name'] = data['Presented Stimulus name'].fillna('')\n",
    "\n",
    "    # 使用布尔索引筛选出不包含 '0000001' 的行\n",
    "    filtered_data = data[~data['Presented Stimulus name'].str.contains('0000001')]\n",
    "    data = data.fillna(fill_value)\n",
    "    data['Presented Stimulus name'] = data['Presented Stimulus name'].fillna('').astype(str)\n",
    "    data = data[~data['Presented Stimulus name'].str.contains('00000')]\n",
    "\n",
    "\n",
    "    groups = data.groupby('Presented Stimulus name')\n",
    "\n",
    "    # 创建目标目录，如果不存在则新建\n",
    "    output_dir = os.path.join(\"../UAV123-prossesed\", person_name)\n",
    "    os.makedirs(output_dir, exist_ok=True)\n",
    "\n",
    "    # 使用 tqdm 显示进度条\n",
    "    for group_name, group_df in tq.tqdm(groups, desc=\"Saving groups to TSV files\"):\n",
    "        # 为每个类别创建一个新的 TSV 文件，并保存到指定路径\n",
    "        file_name = os.path.join(output_dir, f\"{group_name}.tsv\")\n",
    "        group_df.to_csv(file_name, sep='\\t', index=False)\n",
    "        # tq.tqdm.write(f\"Saved group {group_name} to file {file_name}\")\n",
    "    \n",
    "\n",
    "    for clazz in clazz_list:  \n",
    "        # load\n",
    "        eye_raw_data = pd.read_csv(os.path.join(output_dir, f\"{clazz}.tsv\"), sep='\\t')\n",
    "\n",
    "        eye_raw_key_data = eye_raw_data[key_columns].copy()  # 使用 .copy() 创建一个副本\n",
    "        # 增加一列 'is_valid' 'is_terminal' 并指定默认值为 0\n",
    "        eye_raw_key_data.loc[:,'is_valid'] = 0 # 表示本条眼动数据是否有效\n",
    "        eye_raw_key_data.loc[:,'is_frame_terminal'] = 0 # 表示一帧视频对应的最后一个眼动数据\n",
    "        eye_raw_misc_data = eye_raw_data[misc_columns]\n",
    "        \n",
    "        presented_stimulus_name = eye_raw_data['Presented Stimulus name'].to_list()\n",
    "        \n",
    "        result_dir = os.path.join(\"../UAV123-preprocessed\", person_name, clazz)\n",
    "        os.makedirs(result_dir, exist_ok=True)\n",
    "        # init\n",
    "        sample_key_data = []\n",
    "        sample_misc_data = []\n",
    "        sample_name = None\n",
    "        for idx, name in tq.tqdm(enumerate(presented_stimulus_name), desc=f'{clazz}'):\n",
    "            if name == fill_value or name == 'Eyetracker Calibration' or name == 'restImage': \n",
    "                continue\n",
    "            \n",
    "            if name != sample_name or idx == len(presented_stimulus_name)-1: \n",
    "                # save\n",
    "                if len(sample_key_data) != 0:\n",
    "                    sample_key_data = pd.concat(sample_key_data)\n",
    "                    sample_key_data.to_csv(os.path.join(result_dir, f\"{sample_name}.tsv\"), sep='\\t', index=False)\n",
    "                    sample_misc_data = pd.concat(sample_misc_data)\n",
    "                    sample_misc_data.to_csv(os.path.join(result_dir, f\"{sample_name}_misc.tsv\"), sep='\\t', index=False)\n",
    "                # init\n",
    "                sample_name = name\n",
    "                sample_key_data = []\n",
    "                sample_misc_data = []\n",
    "                frame_start_idx = idx # 0-based\n",
    "                frame_eye_sample_num = int(sum(eye_raw_data['Presented Stimulus name'] == sample_name) / len(os.listdir(os.path.join(data_dir, clazz, sample_name, 'img'))))\n",
    "            \n",
    "            key_data_slice = eye_raw_key_data.iloc[[idx], :]\n",
    "            misc_data_slice = eye_raw_misc_data.iloc[[idx], :]\n",
    "            \n",
    "            # check valid\n",
    "            if (key_data_slice != fill_value).all(axis=1).values.all():\n",
    "                if key_data_slice['Validity left'].item() == 'Valid' and key_data_slice['Validity right'].item() == 'Valid':\n",
    "                    key_data_slice.loc[:,'is_valid'] = 1\n",
    "                    pass\n",
    "            # check frame terminal\n",
    "            if frame_start_idx + frame_eye_sample_num - 1 == idx:\n",
    "                frame_start_idx = idx + 1 # 0-based\n",
    "                key_data_slice.loc[:,'is_frame_terminal'] = 1\n",
    "                pass\n",
    "\n",
    "            sample_key_data.append(key_data_slice)\n",
    "            sample_misc_data.append(misc_data_slice)"
   ]
  },
  {
   "cell_type": "code",
   "execution_count": 47,
   "metadata": {},
   "outputs": [],
   "source": [
    "# import re\n",
    "# filtered_items = [item for item in clazz_list if not re.search(r'\\d+_\\d+', item)]\n",
    "# other_items=[item for item in clazz_list if re.search(r'\\d+_\\d+', item)]"
   ]
  },
  {
   "cell_type": "code",
   "execution_count": 53,
   "metadata": {},
   "outputs": [],
   "source": [
    "import pandas as pd\n",
    "import numpy as np\n",
    "import os\n",
    "import tqdm.notebook as tq"
   ]
  },
  {
   "cell_type": "code",
   "execution_count": 54,
   "metadata": {},
   "outputs": [],
   "source": [
    "root_dir = '/data/guohua/BeiJing/data/new_UAV123/UAV123-preprocessed/fanyanlong'\n",
    "lasot_dir = '/data/guohua/BeiJing/data/UAV123/UAV_Lasot_struc'\n",
    "output_dir = '/data/guohua/BeiJing/data/UAV-eye-sy/fanyanlong'\n",
    "os.makedirs(output_dir, exist_ok=True)\n"
   ]
  },
  {
   "cell_type": "code",
   "execution_count": 55,
   "metadata": {},
   "outputs": [
    {
     "data": {
      "application/vnd.jupyter.widget-view+json": {
       "model_id": "2c75a27883134b78923ed54425f21f77",
       "version_major": 2,
       "version_minor": 0
      },
      "text/plain": [
       "bike1:   0%|          | 0/2 [00:00<?, ?it/s]"
      ]
     },
     "metadata": {},
     "output_type": "display_data"
    },
    {
     "data": {
      "application/vnd.jupyter.widget-view+json": {
       "model_id": "0e3966e47f9a4be0a6e76967a0c5ff9e",
       "version_major": 2,
       "version_minor": 0
      },
      "text/plain": [
       "bike2:   0%|          | 0/2 [00:00<?, ?it/s]"
      ]
     },
     "metadata": {},
     "output_type": "display_data"
    },
    {
     "data": {
      "application/vnd.jupyter.widget-view+json": {
       "model_id": "35323693c6a54d99bec463c2f4c3e0f3",
       "version_major": 2,
       "version_minor": 0
      },
      "text/plain": [
       "bike3:   0%|          | 0/2 [00:00<?, ?it/s]"
      ]
     },
     "metadata": {},
     "output_type": "display_data"
    },
    {
     "data": {
      "application/vnd.jupyter.widget-view+json": {
       "model_id": "f54b9a8b6ada4f43a0af755a01052522",
       "version_major": 2,
       "version_minor": 0
      },
      "text/plain": [
       "boat1:   0%|          | 0/2 [00:00<?, ?it/s]"
      ]
     },
     "metadata": {},
     "output_type": "display_data"
    },
    {
     "data": {
      "application/vnd.jupyter.widget-view+json": {
       "model_id": "b97daa3545ea415e96c1a343ecf5602c",
       "version_major": 2,
       "version_minor": 0
      },
      "text/plain": [
       "boat2:   0%|          | 0/2 [00:00<?, ?it/s]"
      ]
     },
     "metadata": {},
     "output_type": "display_data"
    },
    {
     "data": {
      "application/vnd.jupyter.widget-view+json": {
       "model_id": "da143687e9004de2ae628493c25c36c5",
       "version_major": 2,
       "version_minor": 0
      },
      "text/plain": [
       "boat3:   0%|          | 0/2 [00:00<?, ?it/s]"
      ]
     },
     "metadata": {},
     "output_type": "display_data"
    },
    {
     "data": {
      "application/vnd.jupyter.widget-view+json": {
       "model_id": "84fb75d89aaa43e3a1e60e363d2b6c78",
       "version_major": 2,
       "version_minor": 0
      },
      "text/plain": [
       "boat4:   0%|          | 0/2 [00:00<?, ?it/s]"
      ]
     },
     "metadata": {},
     "output_type": "display_data"
    },
    {
     "data": {
      "application/vnd.jupyter.widget-view+json": {
       "model_id": "b6d7bebca76846ff9ac4a31e6aa1ffa2",
       "version_major": 2,
       "version_minor": 0
      },
      "text/plain": [
       "boat5:   0%|          | 0/2 [00:00<?, ?it/s]"
      ]
     },
     "metadata": {},
     "output_type": "display_data"
    },
    {
     "data": {
      "application/vnd.jupyter.widget-view+json": {
       "model_id": "57d2bcf3274541cc93aaaf060531f54b",
       "version_major": 2,
       "version_minor": 0
      },
      "text/plain": [
       "boat6:   0%|          | 0/2 [00:00<?, ?it/s]"
      ]
     },
     "metadata": {},
     "output_type": "display_data"
    },
    {
     "data": {
      "application/vnd.jupyter.widget-view+json": {
       "model_id": "b068ad4d94494b4c8572a8874314a02e",
       "version_major": 2,
       "version_minor": 0
      },
      "text/plain": [
       "boat7:   0%|          | 0/2 [00:00<?, ?it/s]"
      ]
     },
     "metadata": {},
     "output_type": "display_data"
    },
    {
     "data": {
      "application/vnd.jupyter.widget-view+json": {
       "model_id": "c3782083fcc54756969b8d14585bd0f8",
       "version_major": 2,
       "version_minor": 0
      },
      "text/plain": [
       "boat8:   0%|          | 0/2 [00:00<?, ?it/s]"
      ]
     },
     "metadata": {},
     "output_type": "display_data"
    },
    {
     "data": {
      "application/vnd.jupyter.widget-view+json": {
       "model_id": "e910669dfcfc4d199cee7db926e25734",
       "version_major": 2,
       "version_minor": 0
      },
      "text/plain": [
       "boat9:   0%|          | 0/2 [00:00<?, ?it/s]"
      ]
     },
     "metadata": {},
     "output_type": "display_data"
    },
    {
     "data": {
      "application/vnd.jupyter.widget-view+json": {
       "model_id": "542df2896c314070847bcb9f7708b5d4",
       "version_major": 2,
       "version_minor": 0
      },
      "text/plain": [
       "building1:   0%|          | 0/2 [00:00<?, ?it/s]"
      ]
     },
     "metadata": {},
     "output_type": "display_data"
    },
    {
     "data": {
      "application/vnd.jupyter.widget-view+json": {
       "model_id": "ec298e0fb01349dfa996be0a7c07cd2f",
       "version_major": 2,
       "version_minor": 0
      },
      "text/plain": [
       "building2:   0%|          | 0/2 [00:00<?, ?it/s]"
      ]
     },
     "metadata": {},
     "output_type": "display_data"
    },
    {
     "data": {
      "application/vnd.jupyter.widget-view+json": {
       "model_id": "fedc9a6156704a6689876024caab2db8",
       "version_major": 2,
       "version_minor": 0
      },
      "text/plain": [
       "building3:   0%|          | 0/2 [00:00<?, ?it/s]"
      ]
     },
     "metadata": {},
     "output_type": "display_data"
    },
    {
     "data": {
      "application/vnd.jupyter.widget-view+json": {
       "model_id": "8120903dbe01476290be4ee03569589f",
       "version_major": 2,
       "version_minor": 0
      },
      "text/plain": [
       "building4:   0%|          | 0/2 [00:00<?, ?it/s]"
      ]
     },
     "metadata": {},
     "output_type": "display_data"
    },
    {
     "data": {
      "application/vnd.jupyter.widget-view+json": {
       "model_id": "9f29af15c78b4320a6c8352ee44972e6",
       "version_major": 2,
       "version_minor": 0
      },
      "text/plain": [
       "building5:   0%|          | 0/2 [00:00<?, ?it/s]"
      ]
     },
     "metadata": {},
     "output_type": "display_data"
    },
    {
     "data": {
      "application/vnd.jupyter.widget-view+json": {
       "model_id": "368bbfca6502498bb3b2308a728c9889",
       "version_major": 2,
       "version_minor": 0
      },
      "text/plain": [
       "car1:   0%|          | 0/2 [00:00<?, ?it/s]"
      ]
     },
     "metadata": {},
     "output_type": "display_data"
    },
    {
     "data": {
      "application/vnd.jupyter.widget-view+json": {
       "model_id": "9521e51c77c745c2ac443cf0e41be86f",
       "version_major": 2,
       "version_minor": 0
      },
      "text/plain": [
       "car10:   0%|          | 0/2 [00:00<?, ?it/s]"
      ]
     },
     "metadata": {},
     "output_type": "display_data"
    },
    {
     "data": {
      "application/vnd.jupyter.widget-view+json": {
       "model_id": "e8d3bab3219040998421b89996987934",
       "version_major": 2,
       "version_minor": 0
      },
      "text/plain": [
       "car11:   0%|          | 0/2 [00:00<?, ?it/s]"
      ]
     },
     "metadata": {},
     "output_type": "display_data"
    },
    {
     "data": {
      "application/vnd.jupyter.widget-view+json": {
       "model_id": "0bb00b73f098444b99d79332debb325f",
       "version_major": 2,
       "version_minor": 0
      },
      "text/plain": [
       "car12:   0%|          | 0/2 [00:00<?, ?it/s]"
      ]
     },
     "metadata": {},
     "output_type": "display_data"
    },
    {
     "data": {
      "application/vnd.jupyter.widget-view+json": {
       "model_id": "7fd28d94e52b41598a437eab141513e6",
       "version_major": 2,
       "version_minor": 0
      },
      "text/plain": [
       "car13:   0%|          | 0/2 [00:00<?, ?it/s]"
      ]
     },
     "metadata": {},
     "output_type": "display_data"
    },
    {
     "data": {
      "application/vnd.jupyter.widget-view+json": {
       "model_id": "1c7394e4da334bc0bd4c9547ae456e67",
       "version_major": 2,
       "version_minor": 0
      },
      "text/plain": [
       "car14:   0%|          | 0/2 [00:00<?, ?it/s]"
      ]
     },
     "metadata": {},
     "output_type": "display_data"
    },
    {
     "data": {
      "application/vnd.jupyter.widget-view+json": {
       "model_id": "e99590bf72cb4c278b67903cbffbabdf",
       "version_major": 2,
       "version_minor": 0
      },
      "text/plain": [
       "car15:   0%|          | 0/2 [00:00<?, ?it/s]"
      ]
     },
     "metadata": {},
     "output_type": "display_data"
    },
    {
     "data": {
      "application/vnd.jupyter.widget-view+json": {
       "model_id": "0d122d3f4b974fdbbbf1b1586a23168d",
       "version_major": 2,
       "version_minor": 0
      },
      "text/plain": [
       "car16:   0%|          | 0/2 [00:00<?, ?it/s]"
      ]
     },
     "metadata": {},
     "output_type": "display_data"
    },
    {
     "data": {
      "application/vnd.jupyter.widget-view+json": {
       "model_id": "c38d714f523a4e17a2bf7404aff50540",
       "version_major": 2,
       "version_minor": 0
      },
      "text/plain": [
       "car17:   0%|          | 0/2 [00:00<?, ?it/s]"
      ]
     },
     "metadata": {},
     "output_type": "display_data"
    },
    {
     "data": {
      "application/vnd.jupyter.widget-view+json": {
       "model_id": "929ca95f9b1f4ba1955a3bfc24bdb3a4",
       "version_major": 2,
       "version_minor": 0
      },
      "text/plain": [
       "car18:   0%|          | 0/2 [00:00<?, ?it/s]"
      ]
     },
     "metadata": {},
     "output_type": "display_data"
    },
    {
     "data": {
      "application/vnd.jupyter.widget-view+json": {
       "model_id": "9c404444e8f24faebcddc0b847242928",
       "version_major": 2,
       "version_minor": 0
      },
      "text/plain": [
       "car1_s:   0%|          | 0/2 [00:00<?, ?it/s]"
      ]
     },
     "metadata": {},
     "output_type": "display_data"
    },
    {
     "data": {
      "application/vnd.jupyter.widget-view+json": {
       "model_id": "6c21f0eb043f4ec1b83ca9c9d483ae96",
       "version_major": 2,
       "version_minor": 0
      },
      "text/plain": [
       "car2:   0%|          | 0/2 [00:00<?, ?it/s]"
      ]
     },
     "metadata": {},
     "output_type": "display_data"
    },
    {
     "data": {
      "application/vnd.jupyter.widget-view+json": {
       "model_id": "615e40f8ec0f414aa4faeeddf7aefad9",
       "version_major": 2,
       "version_minor": 0
      },
      "text/plain": [
       "car2_s:   0%|          | 0/2 [00:00<?, ?it/s]"
      ]
     },
     "metadata": {},
     "output_type": "display_data"
    },
    {
     "data": {
      "application/vnd.jupyter.widget-view+json": {
       "model_id": "56655780b16d49b0a46730208479d005",
       "version_major": 2,
       "version_minor": 0
      },
      "text/plain": [
       "car3:   0%|          | 0/2 [00:00<?, ?it/s]"
      ]
     },
     "metadata": {},
     "output_type": "display_data"
    },
    {
     "data": {
      "application/vnd.jupyter.widget-view+json": {
       "model_id": "0bb34b4b6ea54d63b84cc1feef5ad23f",
       "version_major": 2,
       "version_minor": 0
      },
      "text/plain": [
       "car3_s:   0%|          | 0/2 [00:00<?, ?it/s]"
      ]
     },
     "metadata": {},
     "output_type": "display_data"
    },
    {
     "data": {
      "application/vnd.jupyter.widget-view+json": {
       "model_id": "1c368ec938b14c119546828b4699cca0",
       "version_major": 2,
       "version_minor": 0
      },
      "text/plain": [
       "car4:   0%|          | 0/2 [00:00<?, ?it/s]"
      ]
     },
     "metadata": {},
     "output_type": "display_data"
    },
    {
     "data": {
      "application/vnd.jupyter.widget-view+json": {
       "model_id": "367bd077fb614c68b87e61f978e5035b",
       "version_major": 2,
       "version_minor": 0
      },
      "text/plain": [
       "car4_s:   0%|          | 0/2 [00:00<?, ?it/s]"
      ]
     },
     "metadata": {},
     "output_type": "display_data"
    },
    {
     "data": {
      "application/vnd.jupyter.widget-view+json": {
       "model_id": "225ab1cac7744e4ab6cd27796af2a76b",
       "version_major": 2,
       "version_minor": 0
      },
      "text/plain": [
       "car5:   0%|          | 0/2 [00:00<?, ?it/s]"
      ]
     },
     "metadata": {},
     "output_type": "display_data"
    },
    {
     "data": {
      "application/vnd.jupyter.widget-view+json": {
       "model_id": "9412732ac7614f1aaca53745a28ef95f",
       "version_major": 2,
       "version_minor": 0
      },
      "text/plain": [
       "car6:   0%|          | 0/2 [00:00<?, ?it/s]"
      ]
     },
     "metadata": {},
     "output_type": "display_data"
    },
    {
     "data": {
      "application/vnd.jupyter.widget-view+json": {
       "model_id": "5b78fc24c1d14997b0e7dd51941ae5e7",
       "version_major": 2,
       "version_minor": 0
      },
      "text/plain": [
       "car7:   0%|          | 0/2 [00:00<?, ?it/s]"
      ]
     },
     "metadata": {},
     "output_type": "display_data"
    },
    {
     "data": {
      "application/vnd.jupyter.widget-view+json": {
       "model_id": "c2d6525000ac4b138ea4cfff67a33bf7",
       "version_major": 2,
       "version_minor": 0
      },
      "text/plain": [
       "car8:   0%|          | 0/2 [00:00<?, ?it/s]"
      ]
     },
     "metadata": {},
     "output_type": "display_data"
    },
    {
     "data": {
      "application/vnd.jupyter.widget-view+json": {
       "model_id": "98a3cbddb6fc48ef8934c9b0b852ef8e",
       "version_major": 2,
       "version_minor": 0
      },
      "text/plain": [
       "car9:   0%|          | 0/2 [00:00<?, ?it/s]"
      ]
     },
     "metadata": {},
     "output_type": "display_data"
    },
    {
     "data": {
      "application/vnd.jupyter.widget-view+json": {
       "model_id": "850e93b487b4473aae9aa671d83085dc",
       "version_major": 2,
       "version_minor": 0
      },
      "text/plain": [
       "group1:   0%|          | 0/2 [00:00<?, ?it/s]"
      ]
     },
     "metadata": {},
     "output_type": "display_data"
    },
    {
     "data": {
      "application/vnd.jupyter.widget-view+json": {
       "model_id": "8a1b95b4755e4b9fbcaf09f94955a4e4",
       "version_major": 2,
       "version_minor": 0
      },
      "text/plain": [
       "group2:   0%|          | 0/2 [00:00<?, ?it/s]"
      ]
     },
     "metadata": {},
     "output_type": "display_data"
    },
    {
     "data": {
      "application/vnd.jupyter.widget-view+json": {
       "model_id": "962ac038a922411e843573c00a9ccea1",
       "version_major": 2,
       "version_minor": 0
      },
      "text/plain": [
       "group3:   0%|          | 0/2 [00:00<?, ?it/s]"
      ]
     },
     "metadata": {},
     "output_type": "display_data"
    },
    {
     "data": {
      "application/vnd.jupyter.widget-view+json": {
       "model_id": "dcc52eb14e654ce79a996857b7439530",
       "version_major": 2,
       "version_minor": 0
      },
      "text/plain": [
       "person1:   0%|          | 0/2 [00:00<?, ?it/s]"
      ]
     },
     "metadata": {},
     "output_type": "display_data"
    },
    {
     "data": {
      "application/vnd.jupyter.widget-view+json": {
       "model_id": "fcfaa485867e4aea808378a41413407d",
       "version_major": 2,
       "version_minor": 0
      },
      "text/plain": [
       "person10:   0%|          | 0/2 [00:00<?, ?it/s]"
      ]
     },
     "metadata": {},
     "output_type": "display_data"
    },
    {
     "data": {
      "application/vnd.jupyter.widget-view+json": {
       "model_id": "8c1cf9abd0f6411e802450a075b37dd0",
       "version_major": 2,
       "version_minor": 0
      },
      "text/plain": [
       "person11:   0%|          | 0/2 [00:00<?, ?it/s]"
      ]
     },
     "metadata": {},
     "output_type": "display_data"
    },
    {
     "data": {
      "application/vnd.jupyter.widget-view+json": {
       "model_id": "d91104cb36a84268b9970851b222ab68",
       "version_major": 2,
       "version_minor": 0
      },
      "text/plain": [
       "person12:   0%|          | 0/2 [00:00<?, ?it/s]"
      ]
     },
     "metadata": {},
     "output_type": "display_data"
    },
    {
     "data": {
      "application/vnd.jupyter.widget-view+json": {
       "model_id": "c201c6b61956456b83088f95b05856a1",
       "version_major": 2,
       "version_minor": 0
      },
      "text/plain": [
       "person13:   0%|          | 0/2 [00:00<?, ?it/s]"
      ]
     },
     "metadata": {},
     "output_type": "display_data"
    },
    {
     "data": {
      "application/vnd.jupyter.widget-view+json": {
       "model_id": "110e0f8644c845298ec844b83010e01a",
       "version_major": 2,
       "version_minor": 0
      },
      "text/plain": [
       "person14:   0%|          | 0/2 [00:00<?, ?it/s]"
      ]
     },
     "metadata": {},
     "output_type": "display_data"
    },
    {
     "data": {
      "application/vnd.jupyter.widget-view+json": {
       "model_id": "e10bec3b94784b7dabdfac59d6e335df",
       "version_major": 2,
       "version_minor": 0
      },
      "text/plain": [
       "person15:   0%|          | 0/2 [00:00<?, ?it/s]"
      ]
     },
     "metadata": {},
     "output_type": "display_data"
    },
    {
     "data": {
      "application/vnd.jupyter.widget-view+json": {
       "model_id": "7c76da4dd0f6469bac583425deb573c0",
       "version_major": 2,
       "version_minor": 0
      },
      "text/plain": [
       "person16:   0%|          | 0/2 [00:00<?, ?it/s]"
      ]
     },
     "metadata": {},
     "output_type": "display_data"
    },
    {
     "data": {
      "application/vnd.jupyter.widget-view+json": {
       "model_id": "6764b284adce4ed99adb6ec6cc66c80a",
       "version_major": 2,
       "version_minor": 0
      },
      "text/plain": [
       "person17:   0%|          | 0/2 [00:00<?, ?it/s]"
      ]
     },
     "metadata": {},
     "output_type": "display_data"
    },
    {
     "data": {
      "application/vnd.jupyter.widget-view+json": {
       "model_id": "f45141dfed0b44eb8d43301d5d330b22",
       "version_major": 2,
       "version_minor": 0
      },
      "text/plain": [
       "person18:   0%|          | 0/2 [00:00<?, ?it/s]"
      ]
     },
     "metadata": {},
     "output_type": "display_data"
    },
    {
     "data": {
      "application/vnd.jupyter.widget-view+json": {
       "model_id": "fae11a05e4f04b5b8adb3c6693cdb820",
       "version_major": 2,
       "version_minor": 0
      },
      "text/plain": [
       "person19:   0%|          | 0/2 [00:00<?, ?it/s]"
      ]
     },
     "metadata": {},
     "output_type": "display_data"
    },
    {
     "data": {
      "application/vnd.jupyter.widget-view+json": {
       "model_id": "aa35d88286ac475cbfad37cf6eb68ff6",
       "version_major": 2,
       "version_minor": 0
      },
      "text/plain": [
       "person1_s:   0%|          | 0/2 [00:00<?, ?it/s]"
      ]
     },
     "metadata": {},
     "output_type": "display_data"
    },
    {
     "data": {
      "application/vnd.jupyter.widget-view+json": {
       "model_id": "4cb169cd84494fcdb9831400c5db1bb1",
       "version_major": 2,
       "version_minor": 0
      },
      "text/plain": [
       "person2:   0%|          | 0/2 [00:00<?, ?it/s]"
      ]
     },
     "metadata": {},
     "output_type": "display_data"
    },
    {
     "data": {
      "application/vnd.jupyter.widget-view+json": {
       "model_id": "c159db14711d4eb0abe8071a7b5467a4",
       "version_major": 2,
       "version_minor": 0
      },
      "text/plain": [
       "person20:   0%|          | 0/2 [00:00<?, ?it/s]"
      ]
     },
     "metadata": {},
     "output_type": "display_data"
    },
    {
     "data": {
      "application/vnd.jupyter.widget-view+json": {
       "model_id": "6a22861279dc4e21a510139824d7c80e",
       "version_major": 2,
       "version_minor": 0
      },
      "text/plain": [
       "person21:   0%|          | 0/2 [00:00<?, ?it/s]"
      ]
     },
     "metadata": {},
     "output_type": "display_data"
    },
    {
     "data": {
      "application/vnd.jupyter.widget-view+json": {
       "model_id": "7c720d09748848bb91930092b60605dd",
       "version_major": 2,
       "version_minor": 0
      },
      "text/plain": [
       "person22:   0%|          | 0/2 [00:00<?, ?it/s]"
      ]
     },
     "metadata": {},
     "output_type": "display_data"
    },
    {
     "data": {
      "application/vnd.jupyter.widget-view+json": {
       "model_id": "0ec12d460b954777b6605dfa329429a5",
       "version_major": 2,
       "version_minor": 0
      },
      "text/plain": [
       "person23:   0%|          | 0/2 [00:00<?, ?it/s]"
      ]
     },
     "metadata": {},
     "output_type": "display_data"
    },
    {
     "data": {
      "application/vnd.jupyter.widget-view+json": {
       "model_id": "687d1cebb2c149bba88dc16a63293b62",
       "version_major": 2,
       "version_minor": 0
      },
      "text/plain": [
       "person2_s:   0%|          | 0/2 [00:00<?, ?it/s]"
      ]
     },
     "metadata": {},
     "output_type": "display_data"
    },
    {
     "data": {
      "application/vnd.jupyter.widget-view+json": {
       "model_id": "81118f97a62d4c16af6a4dedd6ac22a1",
       "version_major": 2,
       "version_minor": 0
      },
      "text/plain": [
       "person3:   0%|          | 0/2 [00:00<?, ?it/s]"
      ]
     },
     "metadata": {},
     "output_type": "display_data"
    },
    {
     "data": {
      "application/vnd.jupyter.widget-view+json": {
       "model_id": "6993c9de7f48423fbb029f723333e70a",
       "version_major": 2,
       "version_minor": 0
      },
      "text/plain": [
       "person3_s:   0%|          | 0/2 [00:00<?, ?it/s]"
      ]
     },
     "metadata": {},
     "output_type": "display_data"
    },
    {
     "data": {
      "application/vnd.jupyter.widget-view+json": {
       "model_id": "8e4238f800284143af24e1b5473ade82",
       "version_major": 2,
       "version_minor": 0
      },
      "text/plain": [
       "person4:   0%|          | 0/2 [00:00<?, ?it/s]"
      ]
     },
     "metadata": {},
     "output_type": "display_data"
    },
    {
     "data": {
      "application/vnd.jupyter.widget-view+json": {
       "model_id": "4b4594ea7ebd4f34bc0e7fd9434a2f75",
       "version_major": 2,
       "version_minor": 0
      },
      "text/plain": [
       "person5:   0%|          | 0/2 [00:00<?, ?it/s]"
      ]
     },
     "metadata": {},
     "output_type": "display_data"
    },
    {
     "data": {
      "application/vnd.jupyter.widget-view+json": {
       "model_id": "bf34249b4e5c464f98a32890d2d47e62",
       "version_major": 2,
       "version_minor": 0
      },
      "text/plain": [
       "person6:   0%|          | 0/2 [00:00<?, ?it/s]"
      ]
     },
     "metadata": {},
     "output_type": "display_data"
    },
    {
     "data": {
      "application/vnd.jupyter.widget-view+json": {
       "model_id": "1f2f6fdfd160490fa103742dc132581c",
       "version_major": 2,
       "version_minor": 0
      },
      "text/plain": [
       "person7:   0%|          | 0/2 [00:00<?, ?it/s]"
      ]
     },
     "metadata": {},
     "output_type": "display_data"
    },
    {
     "data": {
      "application/vnd.jupyter.widget-view+json": {
       "model_id": "f0f43814d9e447eda06152136129dc4d",
       "version_major": 2,
       "version_minor": 0
      },
      "text/plain": [
       "person8:   0%|          | 0/2 [00:00<?, ?it/s]"
      ]
     },
     "metadata": {},
     "output_type": "display_data"
    },
    {
     "data": {
      "application/vnd.jupyter.widget-view+json": {
       "model_id": "169fa33fafe84c9b907be156b1a205df",
       "version_major": 2,
       "version_minor": 0
      },
      "text/plain": [
       "person9:   0%|          | 0/2 [00:00<?, ?it/s]"
      ]
     },
     "metadata": {},
     "output_type": "display_data"
    },
    {
     "data": {
      "application/vnd.jupyter.widget-view+json": {
       "model_id": "0b7f75d6605842b3b1d79152ede788cc",
       "version_major": 2,
       "version_minor": 0
      },
      "text/plain": [
       "truck1:   0%|          | 0/2 [00:00<?, ?it/s]"
      ]
     },
     "metadata": {},
     "output_type": "display_data"
    },
    {
     "data": {
      "application/vnd.jupyter.widget-view+json": {
       "model_id": "b88dd7bdf0e54400a45a620d9fe8b600",
       "version_major": 2,
       "version_minor": 0
      },
      "text/plain": [
       "truck2:   0%|          | 0/2 [00:00<?, ?it/s]"
      ]
     },
     "metadata": {},
     "output_type": "display_data"
    },
    {
     "data": {
      "application/vnd.jupyter.widget-view+json": {
       "model_id": "f7fd2c579ef044edba57c2f310e73fb3",
       "version_major": 2,
       "version_minor": 0
      },
      "text/plain": [
       "truck3:   0%|          | 0/2 [00:00<?, ?it/s]"
      ]
     },
     "metadata": {},
     "output_type": "display_data"
    },
    {
     "data": {
      "application/vnd.jupyter.widget-view+json": {
       "model_id": "e21ed8eb16f348e3a911c234ca5ced0a",
       "version_major": 2,
       "version_minor": 0
      },
      "text/plain": [
       "truck4:   0%|          | 0/2 [00:00<?, ?it/s]"
      ]
     },
     "metadata": {},
     "output_type": "display_data"
    },
    {
     "data": {
      "application/vnd.jupyter.widget-view+json": {
       "model_id": "e384b5c2b8d44d49a2fdf09ac19a31e7",
       "version_major": 2,
       "version_minor": 0
      },
      "text/plain": [
       "uav1:   0%|          | 0/2 [00:00<?, ?it/s]"
      ]
     },
     "metadata": {},
     "output_type": "display_data"
    },
    {
     "data": {
      "application/vnd.jupyter.widget-view+json": {
       "model_id": "80aa386e5e16420493a7a7789bd7fe8b",
       "version_major": 2,
       "version_minor": 0
      },
      "text/plain": [
       "uav2:   0%|          | 0/2 [00:00<?, ?it/s]"
      ]
     },
     "metadata": {},
     "output_type": "display_data"
    },
    {
     "data": {
      "application/vnd.jupyter.widget-view+json": {
       "model_id": "10931772e475412c993c5bbfe0b3a9bf",
       "version_major": 2,
       "version_minor": 0
      },
      "text/plain": [
       "uav3:   0%|          | 0/2 [00:00<?, ?it/s]"
      ]
     },
     "metadata": {},
     "output_type": "display_data"
    },
    {
     "data": {
      "application/vnd.jupyter.widget-view+json": {
       "model_id": "998e642cd7e14c83b30770caf9e04c4d",
       "version_major": 2,
       "version_minor": 0
      },
      "text/plain": [
       "uav4:   0%|          | 0/2 [00:00<?, ?it/s]"
      ]
     },
     "metadata": {},
     "output_type": "display_data"
    },
    {
     "data": {
      "application/vnd.jupyter.widget-view+json": {
       "model_id": "b2402a2b8c66484a90d978f46b67dd36",
       "version_major": 2,
       "version_minor": 0
      },
      "text/plain": [
       "uav5:   0%|          | 0/2 [00:00<?, ?it/s]"
      ]
     },
     "metadata": {},
     "output_type": "display_data"
    },
    {
     "data": {
      "application/vnd.jupyter.widget-view+json": {
       "model_id": "6843afd64b2f417895777e6479380af3",
       "version_major": 2,
       "version_minor": 0
      },
      "text/plain": [
       "uav6:   0%|          | 0/2 [00:00<?, ?it/s]"
      ]
     },
     "metadata": {},
     "output_type": "display_data"
    },
    {
     "data": {
      "application/vnd.jupyter.widget-view+json": {
       "model_id": "1e5d7ed14e3e444ab61dfb294c6d0330",
       "version_major": 2,
       "version_minor": 0
      },
      "text/plain": [
       "uav7:   0%|          | 0/2 [00:00<?, ?it/s]"
      ]
     },
     "metadata": {},
     "output_type": "display_data"
    },
    {
     "data": {
      "application/vnd.jupyter.widget-view+json": {
       "model_id": "7e175ca5ab98475f88971855d4471121",
       "version_major": 2,
       "version_minor": 0
      },
      "text/plain": [
       "uav8:   0%|          | 0/2 [00:00<?, ?it/s]"
      ]
     },
     "metadata": {},
     "output_type": "display_data"
    },
    {
     "data": {
      "application/vnd.jupyter.widget-view+json": {
       "model_id": "1f4e920c44214d148febc7a315aac905",
       "version_major": 2,
       "version_minor": 0
      },
      "text/plain": [
       "wakeboard1:   0%|          | 0/2 [00:00<?, ?it/s]"
      ]
     },
     "metadata": {},
     "output_type": "display_data"
    },
    {
     "data": {
      "application/vnd.jupyter.widget-view+json": {
       "model_id": "6d73ba64231e43dd898eceaa6f137312",
       "version_major": 2,
       "version_minor": 0
      },
      "text/plain": [
       "wakeboard10:   0%|          | 0/2 [00:00<?, ?it/s]"
      ]
     },
     "metadata": {},
     "output_type": "display_data"
    },
    {
     "data": {
      "application/vnd.jupyter.widget-view+json": {
       "model_id": "4a39c07f5d2f415fa202b30ece5f3315",
       "version_major": 2,
       "version_minor": 0
      },
      "text/plain": [
       "wakeboard2:   0%|          | 0/2 [00:00<?, ?it/s]"
      ]
     },
     "metadata": {},
     "output_type": "display_data"
    },
    {
     "data": {
      "application/vnd.jupyter.widget-view+json": {
       "model_id": "dd27418be3d34194a9b64c9c4ed8ed1a",
       "version_major": 2,
       "version_minor": 0
      },
      "text/plain": [
       "wakeboard3:   0%|          | 0/2 [00:00<?, ?it/s]"
      ]
     },
     "metadata": {},
     "output_type": "display_data"
    },
    {
     "data": {
      "application/vnd.jupyter.widget-view+json": {
       "model_id": "856a3297ecd3475892a90012671940a8",
       "version_major": 2,
       "version_minor": 0
      },
      "text/plain": [
       "wakeboard4:   0%|          | 0/2 [00:00<?, ?it/s]"
      ]
     },
     "metadata": {},
     "output_type": "display_data"
    },
    {
     "data": {
      "application/vnd.jupyter.widget-view+json": {
       "model_id": "0797bf5cab7c4c3a9b65a1fbf1c7f893",
       "version_major": 2,
       "version_minor": 0
      },
      "text/plain": [
       "wakeboard5:   0%|          | 0/2 [00:00<?, ?it/s]"
      ]
     },
     "metadata": {},
     "output_type": "display_data"
    },
    {
     "data": {
      "application/vnd.jupyter.widget-view+json": {
       "model_id": "b44893b924464913ad9a00b7360e9d57",
       "version_major": 2,
       "version_minor": 0
      },
      "text/plain": [
       "wakeboard6:   0%|          | 0/2 [00:00<?, ?it/s]"
      ]
     },
     "metadata": {},
     "output_type": "display_data"
    },
    {
     "data": {
      "application/vnd.jupyter.widget-view+json": {
       "model_id": "8d7238cdccd74ddd9887a452ef7265c4",
       "version_major": 2,
       "version_minor": 0
      },
      "text/plain": [
       "wakeboard7:   0%|          | 0/2 [00:00<?, ?it/s]"
      ]
     },
     "metadata": {},
     "output_type": "display_data"
    },
    {
     "data": {
      "application/vnd.jupyter.widget-view+json": {
       "model_id": "3afda772cd904662b672625c4c3fd6ce",
       "version_major": 2,
       "version_minor": 0
      },
      "text/plain": [
       "wakeboard8:   0%|          | 0/2 [00:00<?, ?it/s]"
      ]
     },
     "metadata": {},
     "output_type": "display_data"
    },
    {
     "data": {
      "application/vnd.jupyter.widget-view+json": {
       "model_id": "d8f22719d5134001b4c4d4fbcf43ff7b",
       "version_major": 2,
       "version_minor": 0
      },
      "text/plain": [
       "wakeboard9:   0%|          | 0/2 [00:00<?, ?it/s]"
      ]
     },
     "metadata": {},
     "output_type": "display_data"
    }
   ],
   "source": [
    "for clazz in clazz_list:\n",
    "    clazz_dir = os.path.join(root_dir, clazz)\n",
    "    sample_list = os.listdir(clazz_dir)\n",
    "    for sample in tq.tqdm(sample_list, desc=f'{clazz}'):\n",
    "        # 跳过misc\n",
    "        if sample.endswith('_misc.tsv'):\n",
    "            continue\n",
    "        \n",
    "        sample_name = sample.replace('.tsv', '')\n",
    "        sample_path = os.path.join(clazz_dir, sample)\n",
    "        eye_data = pd.read_csv(sample_path, sep='\\t')\n",
    "        video_frame_num = len(pd.read_csv(os.path.join(lasot_dir, clazz, sample_name, 'groundtruth.txt'), delimiter=',', header=None, dtype=np.int64, na_filter=False).values)\n",
    "\n",
    "        video_frame_eye = []\n",
    "        final_result = []\n",
    "        \n",
    "        for eye_index in range(len(eye_data['is_frame_terminal'])):\n",
    "            is_frame_terminal = eye_data['is_frame_terminal'][eye_index]\n",
    "            is_valid = eye_data['is_valid'][eye_index]\n",
    "            \n",
    "            # 跳过无效数据\n",
    "            if is_valid == 1:\n",
    "                w = eye_data['Presented Media width'][eye_index]\n",
    "                h = eye_data['Presented Media height'][eye_index]\n",
    "                x = eye_data['Gaze point X (MCSnorm)'][eye_index]\n",
    "                y = eye_data['Gaze point Y (MCSnorm)'][eye_index]\n",
    "                video_frame_eye.append((int(x*w), int(y*h)))\n",
    "            \n",
    "            # 终止帧\n",
    "            if is_frame_terminal == 1:\n",
    "                # 判断1个video帧内的眼动数据是否都是无效，若是赋值为(0, 0)\n",
    "                if len(video_frame_eye) == 0: video_frame_eye = np.array([0, 0], dtype=np.int64)\n",
    "                else:\n",
    "                    video_frame_eye = np.array(video_frame_eye)\n",
    "                    video_frame_eye = np.mean(video_frame_eye, axis=0, dtype=np.int64)\n",
    "                final_result.append(video_frame_eye)\n",
    "                video_frame_eye = []\n",
    "            \n",
    "            # 跳过多余的眼动数据\n",
    "            if len(final_result) == video_frame_num:\n",
    "                break\n",
    "        \n",
    "        # 保存\n",
    "        output_path = os.path.join(output_dir, clazz)\n",
    "        os.makedirs(output_path, exist_ok=True)\n",
    "        np.savetxt(os.path.join(output_path, f'{sample_name}.txt'), np.array(final_result), fmt='%d', delimiter=',')"
   ]
  },
  {
   "cell_type": "code",
   "execution_count": 58,
   "metadata": {},
   "outputs": [
    {
     "name": "stdout",
     "output_type": "stream",
     "text": [
      "['bike1', 'bike2', 'bike3', 'boat1', 'boat2', 'boat3', 'boat4', 'boat5', 'boat6', 'boat7', 'boat8', 'boat9', 'building1', 'building2', 'building3', 'building4', 'building5', 'car1', 'car10', 'car11', 'car12', 'car13', 'car14', 'car15', 'car16', 'car17', 'car18', 'car1_s', 'car2', 'car2_s', 'car3', 'car3_s', 'car4', 'car4_s', 'car5', 'car6', 'car7', 'car8', 'car9', 'group1', 'group2', 'group3', 'person1', 'person10', 'person11', 'person12', 'person13', 'person14', 'person15', 'person16', 'person17', 'person18', 'person19', 'person1_s', 'person2', 'person20', 'person21', 'person22', 'person23', 'person2_s', 'person3', 'person3_s', 'person4', 'person5', 'person6', 'person7', 'person8', 'person9', 'truck1', 'truck2', 'truck3', 'truck4', 'uav1', 'uav2', 'uav3', 'uav4', 'uav5', 'uav6', 'uav7', 'uav8', 'wakeboard1', 'wakeboard10', 'wakeboard2', 'wakeboard3', 'wakeboard4', 'wakeboard5', 'wakeboard6', 'wakeboard7', 'wakeboard8', 'wakeboard9']\n"
     ]
    }
   ],
   "source": [
    "print(clazz_list)"
   ]
  },
  {
   "cell_type": "code",
   "execution_count": null,
   "metadata": {},
   "outputs": [],
   "source": []
  }
 ],
 "metadata": {
  "kernelspec": {
   "display_name": "seqtrack",
   "language": "python",
   "name": "python3"
  },
  "language_info": {
   "codemirror_mode": {
    "name": "ipython",
    "version": 3
   },
   "file_extension": ".py",
   "mimetype": "text/x-python",
   "name": "python",
   "nbconvert_exporter": "python",
   "pygments_lexer": "ipython3",
   "version": "3.8.19"
  }
 },
 "nbformat": 4,
 "nbformat_minor": 2
}
