{
 "cells": [
  {
   "cell_type": "code",
   "execution_count": 2,
   "metadata": {},
   "outputs": [],
   "source": [
    "import pandas as pd\n",
    "import numpy as np\n",
    "import os\n",
    "import tqdm.notebook as tq"
   ]
  },
  {
   "cell_type": "code",
   "execution_count": 3,
   "metadata": {},
   "outputs": [],
   "source": [
    "root_dir = '/data/guohua/BeiJing/data/new_UAV123/UAV123-preprocessed/renwenhao'\n",
    "lasot_dir = '/data/guohua/BeiJing/data/UAV123/UAV_Lasot_struc'\n",
    "output_dir = '/data/guohua/BeiJing/data/UAV-eye-sy/renwenhao'\n",
    "os.makedirs(output_dir, exist_ok=True)\n"
   ]
  },
  {
   "cell_type": "code",
   "execution_count": 4,
   "metadata": {},
   "outputs": [],
   "source": [
    "# 打开 txt 文件，将内容读取为列表\n",
    "with open('/data/guohua/BeiJing/data/UAV123/new_seq_names.txt', 'r') as file:\n",
    "    content = file.read()  # 读取整个文件的内容为一个字符串\n",
    "\n",
    "# 去除结尾的多余逗号（如果有的话），并将字符串按逗号分割为列表\n",
    "items = content.strip().split(',')\n",
    "\n",
    "# 去除每个元素的多余空格或换行符，以及两侧的引号\n",
    "clazz_list = [item.strip().strip('\"') for item in items]"
   ]
  },
  {
   "cell_type": "code",
   "execution_count": 5,
   "metadata": {},
   "outputs": [
    {
     "data": {
      "application/vnd.jupyter.widget-view+json": {
       "model_id": "4458d23c3635461a886d43ed67e052d9",
       "version_major": 2,
       "version_minor": 0
      },
      "text/plain": [
       "bike1:   0%|          | 0/2 [00:00<?, ?it/s]"
      ]
     },
     "metadata": {},
     "output_type": "display_data"
    },
    {
     "data": {
      "application/vnd.jupyter.widget-view+json": {
       "model_id": "d07b33fa2c574d959331c7996211af6d",
       "version_major": 2,
       "version_minor": 0
      },
      "text/plain": [
       "bike2:   0%|          | 0/2 [00:00<?, ?it/s]"
      ]
     },
     "metadata": {},
     "output_type": "display_data"
    },
    {
     "data": {
      "application/vnd.jupyter.widget-view+json": {
       "model_id": "d8cb216d051748c595713a24f84becdb",
       "version_major": 2,
       "version_minor": 0
      },
      "text/plain": [
       "bike3:   0%|          | 0/2 [00:00<?, ?it/s]"
      ]
     },
     "metadata": {},
     "output_type": "display_data"
    },
    {
     "data": {
      "application/vnd.jupyter.widget-view+json": {
       "model_id": "d7b70fa853dd43508aca21e65ffc05ca",
       "version_major": 2,
       "version_minor": 0
      },
      "text/plain": [
       "boat1:   0%|          | 0/2 [00:00<?, ?it/s]"
      ]
     },
     "metadata": {},
     "output_type": "display_data"
    },
    {
     "data": {
      "application/vnd.jupyter.widget-view+json": {
       "model_id": "52e362bae9584f9d886f0e107e6f6a5a",
       "version_major": 2,
       "version_minor": 0
      },
      "text/plain": [
       "boat2:   0%|          | 0/2 [00:00<?, ?it/s]"
      ]
     },
     "metadata": {},
     "output_type": "display_data"
    },
    {
     "data": {
      "application/vnd.jupyter.widget-view+json": {
       "model_id": "ad4e2becd9b5414caf6b3c79272906ef",
       "version_major": 2,
       "version_minor": 0
      },
      "text/plain": [
       "boat3:   0%|          | 0/2 [00:00<?, ?it/s]"
      ]
     },
     "metadata": {},
     "output_type": "display_data"
    },
    {
     "data": {
      "application/vnd.jupyter.widget-view+json": {
       "model_id": "8c5b281afef24731ae16bd63447b3bbe",
       "version_major": 2,
       "version_minor": 0
      },
      "text/plain": [
       "boat4:   0%|          | 0/2 [00:00<?, ?it/s]"
      ]
     },
     "metadata": {},
     "output_type": "display_data"
    },
    {
     "data": {
      "application/vnd.jupyter.widget-view+json": {
       "model_id": "5f0821271be04610ad20ff60e110a5fd",
       "version_major": 2,
       "version_minor": 0
      },
      "text/plain": [
       "boat5:   0%|          | 0/2 [00:00<?, ?it/s]"
      ]
     },
     "metadata": {},
     "output_type": "display_data"
    },
    {
     "data": {
      "application/vnd.jupyter.widget-view+json": {
       "model_id": "2f1f11ec0a42446ab2d94d5f1bf3b63f",
       "version_major": 2,
       "version_minor": 0
      },
      "text/plain": [
       "boat6:   0%|          | 0/2 [00:00<?, ?it/s]"
      ]
     },
     "metadata": {},
     "output_type": "display_data"
    },
    {
     "data": {
      "application/vnd.jupyter.widget-view+json": {
       "model_id": "33213047391042ebb0f304dc54e3818b",
       "version_major": 2,
       "version_minor": 0
      },
      "text/plain": [
       "boat7:   0%|          | 0/2 [00:00<?, ?it/s]"
      ]
     },
     "metadata": {},
     "output_type": "display_data"
    },
    {
     "data": {
      "application/vnd.jupyter.widget-view+json": {
       "model_id": "0644fe64326246a6ad82a9045366745c",
       "version_major": 2,
       "version_minor": 0
      },
      "text/plain": [
       "boat8:   0%|          | 0/2 [00:00<?, ?it/s]"
      ]
     },
     "metadata": {},
     "output_type": "display_data"
    },
    {
     "data": {
      "application/vnd.jupyter.widget-view+json": {
       "model_id": "4e421fc0895e49ada6b0fbe8c864c83d",
       "version_major": 2,
       "version_minor": 0
      },
      "text/plain": [
       "boat9:   0%|          | 0/2 [00:00<?, ?it/s]"
      ]
     },
     "metadata": {},
     "output_type": "display_data"
    },
    {
     "data": {
      "application/vnd.jupyter.widget-view+json": {
       "model_id": "6be3b88734244c84a5496503fe9936d2",
       "version_major": 2,
       "version_minor": 0
      },
      "text/plain": [
       "building1:   0%|          | 0/2 [00:00<?, ?it/s]"
      ]
     },
     "metadata": {},
     "output_type": "display_data"
    },
    {
     "data": {
      "application/vnd.jupyter.widget-view+json": {
       "model_id": "531390d5228344918c5a70db99606f5b",
       "version_major": 2,
       "version_minor": 0
      },
      "text/plain": [
       "building2:   0%|          | 0/2 [00:00<?, ?it/s]"
      ]
     },
     "metadata": {},
     "output_type": "display_data"
    },
    {
     "data": {
      "application/vnd.jupyter.widget-view+json": {
       "model_id": "b549a68e37ec43858156d9d9f5eea734",
       "version_major": 2,
       "version_minor": 0
      },
      "text/plain": [
       "building3:   0%|          | 0/2 [00:00<?, ?it/s]"
      ]
     },
     "metadata": {},
     "output_type": "display_data"
    },
    {
     "data": {
      "application/vnd.jupyter.widget-view+json": {
       "model_id": "d638d240f11d44a882f7bc37872a6bc2",
       "version_major": 2,
       "version_minor": 0
      },
      "text/plain": [
       "building4:   0%|          | 0/2 [00:00<?, ?it/s]"
      ]
     },
     "metadata": {},
     "output_type": "display_data"
    },
    {
     "data": {
      "application/vnd.jupyter.widget-view+json": {
       "model_id": "55d1b0d6395f406a95df33ac75daf618",
       "version_major": 2,
       "version_minor": 0
      },
      "text/plain": [
       "building5:   0%|          | 0/2 [00:00<?, ?it/s]"
      ]
     },
     "metadata": {},
     "output_type": "display_data"
    },
    {
     "data": {
      "application/vnd.jupyter.widget-view+json": {
       "model_id": "d7b3402195234fff866cbddfa3178b19",
       "version_major": 2,
       "version_minor": 0
      },
      "text/plain": [
       "car1:   0%|          | 0/2 [00:00<?, ?it/s]"
      ]
     },
     "metadata": {},
     "output_type": "display_data"
    },
    {
     "data": {
      "application/vnd.jupyter.widget-view+json": {
       "model_id": "adc982ffe71c462ebac7663d2ce184d3",
       "version_major": 2,
       "version_minor": 0
      },
      "text/plain": [
       "car10:   0%|          | 0/2 [00:00<?, ?it/s]"
      ]
     },
     "metadata": {},
     "output_type": "display_data"
    },
    {
     "data": {
      "application/vnd.jupyter.widget-view+json": {
       "model_id": "ceecc7b70e3b46d6b8ae59235eb4eb52",
       "version_major": 2,
       "version_minor": 0
      },
      "text/plain": [
       "car11:   0%|          | 0/2 [00:00<?, ?it/s]"
      ]
     },
     "metadata": {},
     "output_type": "display_data"
    },
    {
     "data": {
      "application/vnd.jupyter.widget-view+json": {
       "model_id": "e1773b6c752647eb982c60470f1f73d2",
       "version_major": 2,
       "version_minor": 0
      },
      "text/plain": [
       "car12:   0%|          | 0/2 [00:00<?, ?it/s]"
      ]
     },
     "metadata": {},
     "output_type": "display_data"
    },
    {
     "data": {
      "application/vnd.jupyter.widget-view+json": {
       "model_id": "1424ad8c12824de887d0debccdb2cee1",
       "version_major": 2,
       "version_minor": 0
      },
      "text/plain": [
       "car13:   0%|          | 0/2 [00:00<?, ?it/s]"
      ]
     },
     "metadata": {},
     "output_type": "display_data"
    },
    {
     "data": {
      "application/vnd.jupyter.widget-view+json": {
       "model_id": "a3ec6821abc3405898bcfcdfb2c2edeb",
       "version_major": 2,
       "version_minor": 0
      },
      "text/plain": [
       "car14:   0%|          | 0/2 [00:00<?, ?it/s]"
      ]
     },
     "metadata": {},
     "output_type": "display_data"
    },
    {
     "data": {
      "application/vnd.jupyter.widget-view+json": {
       "model_id": "376b415341404e588610d8fcf984e1f3",
       "version_major": 2,
       "version_minor": 0
      },
      "text/plain": [
       "car15:   0%|          | 0/2 [00:00<?, ?it/s]"
      ]
     },
     "metadata": {},
     "output_type": "display_data"
    },
    {
     "data": {
      "application/vnd.jupyter.widget-view+json": {
       "model_id": "dd52a119fac94981a7c2f181802c8a0b",
       "version_major": 2,
       "version_minor": 0
      },
      "text/plain": [
       "car16:   0%|          | 0/2 [00:00<?, ?it/s]"
      ]
     },
     "metadata": {},
     "output_type": "display_data"
    },
    {
     "data": {
      "application/vnd.jupyter.widget-view+json": {
       "model_id": "dd8549f39da84c71a124cea4151818a7",
       "version_major": 2,
       "version_minor": 0
      },
      "text/plain": [
       "car17:   0%|          | 0/2 [00:00<?, ?it/s]"
      ]
     },
     "metadata": {},
     "output_type": "display_data"
    },
    {
     "data": {
      "application/vnd.jupyter.widget-view+json": {
       "model_id": "15738a7ad52c406eb9fa9374a9d40943",
       "version_major": 2,
       "version_minor": 0
      },
      "text/plain": [
       "car18:   0%|          | 0/2 [00:00<?, ?it/s]"
      ]
     },
     "metadata": {},
     "output_type": "display_data"
    },
    {
     "data": {
      "application/vnd.jupyter.widget-view+json": {
       "model_id": "798751fcc7e7423e8cc3bc290acc2f18",
       "version_major": 2,
       "version_minor": 0
      },
      "text/plain": [
       "car1_s:   0%|          | 0/2 [00:00<?, ?it/s]"
      ]
     },
     "metadata": {},
     "output_type": "display_data"
    },
    {
     "data": {
      "application/vnd.jupyter.widget-view+json": {
       "model_id": "73a43cf5c4ec4a2c90799484222eb40a",
       "version_major": 2,
       "version_minor": 0
      },
      "text/plain": [
       "car2:   0%|          | 0/2 [00:00<?, ?it/s]"
      ]
     },
     "metadata": {},
     "output_type": "display_data"
    },
    {
     "data": {
      "application/vnd.jupyter.widget-view+json": {
       "model_id": "bebaa7ee90074345aa33e12822b32b91",
       "version_major": 2,
       "version_minor": 0
      },
      "text/plain": [
       "car2_s:   0%|          | 0/2 [00:00<?, ?it/s]"
      ]
     },
     "metadata": {},
     "output_type": "display_data"
    },
    {
     "data": {
      "application/vnd.jupyter.widget-view+json": {
       "model_id": "66f737065aad4ddca0493207330403c9",
       "version_major": 2,
       "version_minor": 0
      },
      "text/plain": [
       "car3:   0%|          | 0/2 [00:00<?, ?it/s]"
      ]
     },
     "metadata": {},
     "output_type": "display_data"
    },
    {
     "data": {
      "application/vnd.jupyter.widget-view+json": {
       "model_id": "a07c3b26da954cb8b0a4b97a03ba9836",
       "version_major": 2,
       "version_minor": 0
      },
      "text/plain": [
       "car3_s:   0%|          | 0/2 [00:00<?, ?it/s]"
      ]
     },
     "metadata": {},
     "output_type": "display_data"
    },
    {
     "data": {
      "application/vnd.jupyter.widget-view+json": {
       "model_id": "bf11c969987c4a3da956bba82fdbb04e",
       "version_major": 2,
       "version_minor": 0
      },
      "text/plain": [
       "car4:   0%|          | 0/2 [00:00<?, ?it/s]"
      ]
     },
     "metadata": {},
     "output_type": "display_data"
    },
    {
     "data": {
      "application/vnd.jupyter.widget-view+json": {
       "model_id": "188965351c9c4a0eb6de45bc926fa88e",
       "version_major": 2,
       "version_minor": 0
      },
      "text/plain": [
       "car4_s:   0%|          | 0/2 [00:00<?, ?it/s]"
      ]
     },
     "metadata": {},
     "output_type": "display_data"
    },
    {
     "data": {
      "application/vnd.jupyter.widget-view+json": {
       "model_id": "466c2b6b8ea543f1af77676ebe6bdfd2",
       "version_major": 2,
       "version_minor": 0
      },
      "text/plain": [
       "car5:   0%|          | 0/2 [00:00<?, ?it/s]"
      ]
     },
     "metadata": {},
     "output_type": "display_data"
    },
    {
     "data": {
      "application/vnd.jupyter.widget-view+json": {
       "model_id": "215af32027c24927a968fa1cf5b13705",
       "version_major": 2,
       "version_minor": 0
      },
      "text/plain": [
       "car6:   0%|          | 0/2 [00:00<?, ?it/s]"
      ]
     },
     "metadata": {},
     "output_type": "display_data"
    },
    {
     "data": {
      "application/vnd.jupyter.widget-view+json": {
       "model_id": "894261e47d07445d879950972724f5a8",
       "version_major": 2,
       "version_minor": 0
      },
      "text/plain": [
       "car7:   0%|          | 0/2 [00:00<?, ?it/s]"
      ]
     },
     "metadata": {},
     "output_type": "display_data"
    },
    {
     "data": {
      "application/vnd.jupyter.widget-view+json": {
       "model_id": "7553fb1368f046f38697f2839bc99c04",
       "version_major": 2,
       "version_minor": 0
      },
      "text/plain": [
       "car8:   0%|          | 0/2 [00:00<?, ?it/s]"
      ]
     },
     "metadata": {},
     "output_type": "display_data"
    },
    {
     "data": {
      "application/vnd.jupyter.widget-view+json": {
       "model_id": "2aa8e5a094fb4c3cb8fb053a4a0e3b79",
       "version_major": 2,
       "version_minor": 0
      },
      "text/plain": [
       "car9:   0%|          | 0/2 [00:00<?, ?it/s]"
      ]
     },
     "metadata": {},
     "output_type": "display_data"
    },
    {
     "data": {
      "application/vnd.jupyter.widget-view+json": {
       "model_id": "592a0318265e4798bfa681e9a292be4c",
       "version_major": 2,
       "version_minor": 0
      },
      "text/plain": [
       "group1:   0%|          | 0/2 [00:00<?, ?it/s]"
      ]
     },
     "metadata": {},
     "output_type": "display_data"
    },
    {
     "data": {
      "application/vnd.jupyter.widget-view+json": {
       "model_id": "29ff736ea5184ad28896b04b291173b8",
       "version_major": 2,
       "version_minor": 0
      },
      "text/plain": [
       "group2:   0%|          | 0/2 [00:00<?, ?it/s]"
      ]
     },
     "metadata": {},
     "output_type": "display_data"
    },
    {
     "data": {
      "application/vnd.jupyter.widget-view+json": {
       "model_id": "9832239d475d4b148aae7704f9729f5a",
       "version_major": 2,
       "version_minor": 0
      },
      "text/plain": [
       "group3:   0%|          | 0/2 [00:00<?, ?it/s]"
      ]
     },
     "metadata": {},
     "output_type": "display_data"
    },
    {
     "data": {
      "application/vnd.jupyter.widget-view+json": {
       "model_id": "531ec69f247c49488e4491cbec771138",
       "version_major": 2,
       "version_minor": 0
      },
      "text/plain": [
       "person1:   0%|          | 0/2 [00:00<?, ?it/s]"
      ]
     },
     "metadata": {},
     "output_type": "display_data"
    },
    {
     "data": {
      "application/vnd.jupyter.widget-view+json": {
       "model_id": "95b95586d74948d18e76ca1bfaa66cf0",
       "version_major": 2,
       "version_minor": 0
      },
      "text/plain": [
       "person10:   0%|          | 0/2 [00:00<?, ?it/s]"
      ]
     },
     "metadata": {},
     "output_type": "display_data"
    },
    {
     "data": {
      "application/vnd.jupyter.widget-view+json": {
       "model_id": "37633b3f5ebe4ed4827be57b8812b62e",
       "version_major": 2,
       "version_minor": 0
      },
      "text/plain": [
       "person11:   0%|          | 0/2 [00:00<?, ?it/s]"
      ]
     },
     "metadata": {},
     "output_type": "display_data"
    },
    {
     "data": {
      "application/vnd.jupyter.widget-view+json": {
       "model_id": "c60dbae34a754b3e8de063c209b660f9",
       "version_major": 2,
       "version_minor": 0
      },
      "text/plain": [
       "person12:   0%|          | 0/2 [00:00<?, ?it/s]"
      ]
     },
     "metadata": {},
     "output_type": "display_data"
    },
    {
     "data": {
      "application/vnd.jupyter.widget-view+json": {
       "model_id": "d62a71476d98425289cb1b49f57797a3",
       "version_major": 2,
       "version_minor": 0
      },
      "text/plain": [
       "person13:   0%|          | 0/2 [00:00<?, ?it/s]"
      ]
     },
     "metadata": {},
     "output_type": "display_data"
    },
    {
     "data": {
      "application/vnd.jupyter.widget-view+json": {
       "model_id": "239471bdb1d24466b7ba05c113d4c2f2",
       "version_major": 2,
       "version_minor": 0
      },
      "text/plain": [
       "person14:   0%|          | 0/2 [00:00<?, ?it/s]"
      ]
     },
     "metadata": {},
     "output_type": "display_data"
    },
    {
     "data": {
      "application/vnd.jupyter.widget-view+json": {
       "model_id": "db13000497ec4ebe985a93987b2953ac",
       "version_major": 2,
       "version_minor": 0
      },
      "text/plain": [
       "person15:   0%|          | 0/2 [00:00<?, ?it/s]"
      ]
     },
     "metadata": {},
     "output_type": "display_data"
    },
    {
     "data": {
      "application/vnd.jupyter.widget-view+json": {
       "model_id": "c69c134c237d431ca2a7c76cd67fa6cc",
       "version_major": 2,
       "version_minor": 0
      },
      "text/plain": [
       "person16:   0%|          | 0/2 [00:00<?, ?it/s]"
      ]
     },
     "metadata": {},
     "output_type": "display_data"
    },
    {
     "data": {
      "application/vnd.jupyter.widget-view+json": {
       "model_id": "fa4e54154fe14168bf9330e0f3320f63",
       "version_major": 2,
       "version_minor": 0
      },
      "text/plain": [
       "person17:   0%|          | 0/2 [00:00<?, ?it/s]"
      ]
     },
     "metadata": {},
     "output_type": "display_data"
    },
    {
     "data": {
      "application/vnd.jupyter.widget-view+json": {
       "model_id": "2da7f8dfbfa4452abe88f1e7c44eacc4",
       "version_major": 2,
       "version_minor": 0
      },
      "text/plain": [
       "person18:   0%|          | 0/2 [00:00<?, ?it/s]"
      ]
     },
     "metadata": {},
     "output_type": "display_data"
    },
    {
     "data": {
      "application/vnd.jupyter.widget-view+json": {
       "model_id": "36efe9a3b9544dfdaeaff3733ef95acd",
       "version_major": 2,
       "version_minor": 0
      },
      "text/plain": [
       "person19:   0%|          | 0/2 [00:00<?, ?it/s]"
      ]
     },
     "metadata": {},
     "output_type": "display_data"
    },
    {
     "data": {
      "application/vnd.jupyter.widget-view+json": {
       "model_id": "b17be09a40bd44eb86ab5d043479cd8a",
       "version_major": 2,
       "version_minor": 0
      },
      "text/plain": [
       "person1_s:   0%|          | 0/2 [00:00<?, ?it/s]"
      ]
     },
     "metadata": {},
     "output_type": "display_data"
    },
    {
     "data": {
      "application/vnd.jupyter.widget-view+json": {
       "model_id": "43191c265e6147b48fa0fcbd24217100",
       "version_major": 2,
       "version_minor": 0
      },
      "text/plain": [
       "person2:   0%|          | 0/2 [00:00<?, ?it/s]"
      ]
     },
     "metadata": {},
     "output_type": "display_data"
    },
    {
     "data": {
      "application/vnd.jupyter.widget-view+json": {
       "model_id": "32e46c04a8444f849a4cb86ee915f8a7",
       "version_major": 2,
       "version_minor": 0
      },
      "text/plain": [
       "person20:   0%|          | 0/2 [00:00<?, ?it/s]"
      ]
     },
     "metadata": {},
     "output_type": "display_data"
    },
    {
     "data": {
      "application/vnd.jupyter.widget-view+json": {
       "model_id": "406735a0adf14df38954b363b63e0b68",
       "version_major": 2,
       "version_minor": 0
      },
      "text/plain": [
       "person21:   0%|          | 0/2 [00:00<?, ?it/s]"
      ]
     },
     "metadata": {},
     "output_type": "display_data"
    },
    {
     "data": {
      "application/vnd.jupyter.widget-view+json": {
       "model_id": "d1f729c204304c94ac00f3ce645fef75",
       "version_major": 2,
       "version_minor": 0
      },
      "text/plain": [
       "person22:   0%|          | 0/2 [00:00<?, ?it/s]"
      ]
     },
     "metadata": {},
     "output_type": "display_data"
    },
    {
     "data": {
      "application/vnd.jupyter.widget-view+json": {
       "model_id": "9b535a34a3594d98abd605ac788afbf7",
       "version_major": 2,
       "version_minor": 0
      },
      "text/plain": [
       "person23:   0%|          | 0/2 [00:00<?, ?it/s]"
      ]
     },
     "metadata": {},
     "output_type": "display_data"
    },
    {
     "data": {
      "application/vnd.jupyter.widget-view+json": {
       "model_id": "10cc88cd45714932830b4a8fddae056e",
       "version_major": 2,
       "version_minor": 0
      },
      "text/plain": [
       "person2_s:   0%|          | 0/2 [00:00<?, ?it/s]"
      ]
     },
     "metadata": {},
     "output_type": "display_data"
    },
    {
     "data": {
      "application/vnd.jupyter.widget-view+json": {
       "model_id": "8fe606e1297f44b7b0ee0954a260644c",
       "version_major": 2,
       "version_minor": 0
      },
      "text/plain": [
       "person3:   0%|          | 0/2 [00:00<?, ?it/s]"
      ]
     },
     "metadata": {},
     "output_type": "display_data"
    },
    {
     "data": {
      "application/vnd.jupyter.widget-view+json": {
       "model_id": "dfffb498689e41b9a39e4b2fd5b4a7a5",
       "version_major": 2,
       "version_minor": 0
      },
      "text/plain": [
       "person3_s:   0%|          | 0/2 [00:00<?, ?it/s]"
      ]
     },
     "metadata": {},
     "output_type": "display_data"
    },
    {
     "data": {
      "application/vnd.jupyter.widget-view+json": {
       "model_id": "ac9a3e7fa6ce4304ace1507e5d912b94",
       "version_major": 2,
       "version_minor": 0
      },
      "text/plain": [
       "person4:   0%|          | 0/2 [00:00<?, ?it/s]"
      ]
     },
     "metadata": {},
     "output_type": "display_data"
    },
    {
     "data": {
      "application/vnd.jupyter.widget-view+json": {
       "model_id": "624bcd2bd12542748720dd7243a2fa4b",
       "version_major": 2,
       "version_minor": 0
      },
      "text/plain": [
       "person5:   0%|          | 0/2 [00:00<?, ?it/s]"
      ]
     },
     "metadata": {},
     "output_type": "display_data"
    },
    {
     "data": {
      "application/vnd.jupyter.widget-view+json": {
       "model_id": "84dee7554cd1411c918c451d7c554eea",
       "version_major": 2,
       "version_minor": 0
      },
      "text/plain": [
       "person6:   0%|          | 0/2 [00:00<?, ?it/s]"
      ]
     },
     "metadata": {},
     "output_type": "display_data"
    },
    {
     "data": {
      "application/vnd.jupyter.widget-view+json": {
       "model_id": "3e0bc28287234023a76b1be7045ddac5",
       "version_major": 2,
       "version_minor": 0
      },
      "text/plain": [
       "person7:   0%|          | 0/2 [00:00<?, ?it/s]"
      ]
     },
     "metadata": {},
     "output_type": "display_data"
    },
    {
     "data": {
      "application/vnd.jupyter.widget-view+json": {
       "model_id": "f04a861cf0f548a892b4ab3a51d62b58",
       "version_major": 2,
       "version_minor": 0
      },
      "text/plain": [
       "person8:   0%|          | 0/2 [00:00<?, ?it/s]"
      ]
     },
     "metadata": {},
     "output_type": "display_data"
    },
    {
     "data": {
      "application/vnd.jupyter.widget-view+json": {
       "model_id": "5e07fbbd23ac49b7b4d6b4c99b495dfc",
       "version_major": 2,
       "version_minor": 0
      },
      "text/plain": [
       "person9:   0%|          | 0/2 [00:00<?, ?it/s]"
      ]
     },
     "metadata": {},
     "output_type": "display_data"
    },
    {
     "data": {
      "application/vnd.jupyter.widget-view+json": {
       "model_id": "0da66e5a6118455cb53579b527f053a7",
       "version_major": 2,
       "version_minor": 0
      },
      "text/plain": [
       "truck1:   0%|          | 0/2 [00:00<?, ?it/s]"
      ]
     },
     "metadata": {},
     "output_type": "display_data"
    },
    {
     "data": {
      "application/vnd.jupyter.widget-view+json": {
       "model_id": "cb910e6ef24c412fb4b5ddbaca27bc73",
       "version_major": 2,
       "version_minor": 0
      },
      "text/plain": [
       "truck2:   0%|          | 0/2 [00:00<?, ?it/s]"
      ]
     },
     "metadata": {},
     "output_type": "display_data"
    },
    {
     "data": {
      "application/vnd.jupyter.widget-view+json": {
       "model_id": "2e308d72d1ac42cc9a538eb08ac0464e",
       "version_major": 2,
       "version_minor": 0
      },
      "text/plain": [
       "truck3:   0%|          | 0/2 [00:00<?, ?it/s]"
      ]
     },
     "metadata": {},
     "output_type": "display_data"
    },
    {
     "data": {
      "application/vnd.jupyter.widget-view+json": {
       "model_id": "4d611644dc20445a8525bad12ed63c37",
       "version_major": 2,
       "version_minor": 0
      },
      "text/plain": [
       "truck4:   0%|          | 0/2 [00:00<?, ?it/s]"
      ]
     },
     "metadata": {},
     "output_type": "display_data"
    },
    {
     "data": {
      "application/vnd.jupyter.widget-view+json": {
       "model_id": "7758ef5ee2154c3688d2ea14fcce1eff",
       "version_major": 2,
       "version_minor": 0
      },
      "text/plain": [
       "uav2:   0%|          | 0/2 [00:00<?, ?it/s]"
      ]
     },
     "metadata": {},
     "output_type": "display_data"
    },
    {
     "data": {
      "application/vnd.jupyter.widget-view+json": {
       "model_id": "aa313b4c3ef34ef485c87e93b500d78d",
       "version_major": 2,
       "version_minor": 0
      },
      "text/plain": [
       "uav3:   0%|          | 0/2 [00:00<?, ?it/s]"
      ]
     },
     "metadata": {},
     "output_type": "display_data"
    },
    {
     "data": {
      "application/vnd.jupyter.widget-view+json": {
       "model_id": "851b73e5f3f341388583004759c117c6",
       "version_major": 2,
       "version_minor": 0
      },
      "text/plain": [
       "uav4:   0%|          | 0/2 [00:00<?, ?it/s]"
      ]
     },
     "metadata": {},
     "output_type": "display_data"
    },
    {
     "data": {
      "application/vnd.jupyter.widget-view+json": {
       "model_id": "a3cea88c988c42058f3d895991ce91a7",
       "version_major": 2,
       "version_minor": 0
      },
      "text/plain": [
       "uav5:   0%|          | 0/2 [00:00<?, ?it/s]"
      ]
     },
     "metadata": {},
     "output_type": "display_data"
    },
    {
     "data": {
      "application/vnd.jupyter.widget-view+json": {
       "model_id": "caf9f623befd40209eba5de32aaf0391",
       "version_major": 2,
       "version_minor": 0
      },
      "text/plain": [
       "uav6:   0%|          | 0/2 [00:00<?, ?it/s]"
      ]
     },
     "metadata": {},
     "output_type": "display_data"
    },
    {
     "data": {
      "application/vnd.jupyter.widget-view+json": {
       "model_id": "37a2a564d087438cb08aaa6fb045c371",
       "version_major": 2,
       "version_minor": 0
      },
      "text/plain": [
       "uav7:   0%|          | 0/2 [00:00<?, ?it/s]"
      ]
     },
     "metadata": {},
     "output_type": "display_data"
    },
    {
     "data": {
      "application/vnd.jupyter.widget-view+json": {
       "model_id": "934e0bd5962f4702bb3b4910f125f5e4",
       "version_major": 2,
       "version_minor": 0
      },
      "text/plain": [
       "uav8:   0%|          | 0/2 [00:00<?, ?it/s]"
      ]
     },
     "metadata": {},
     "output_type": "display_data"
    },
    {
     "data": {
      "application/vnd.jupyter.widget-view+json": {
       "model_id": "dae38fdcea724cda84d5bc354582b933",
       "version_major": 2,
       "version_minor": 0
      },
      "text/plain": [
       "wakeboard1:   0%|          | 0/2 [00:00<?, ?it/s]"
      ]
     },
     "metadata": {},
     "output_type": "display_data"
    },
    {
     "data": {
      "application/vnd.jupyter.widget-view+json": {
       "model_id": "a78e37de841f48ec9f054e0a8facf80e",
       "version_major": 2,
       "version_minor": 0
      },
      "text/plain": [
       "wakeboard10:   0%|          | 0/2 [00:00<?, ?it/s]"
      ]
     },
     "metadata": {},
     "output_type": "display_data"
    },
    {
     "data": {
      "application/vnd.jupyter.widget-view+json": {
       "model_id": "8bb1eb086eaf457481ca03885384cbfe",
       "version_major": 2,
       "version_minor": 0
      },
      "text/plain": [
       "wakeboard2:   0%|          | 0/2 [00:00<?, ?it/s]"
      ]
     },
     "metadata": {},
     "output_type": "display_data"
    },
    {
     "data": {
      "application/vnd.jupyter.widget-view+json": {
       "model_id": "72b24e7e3c934edba9ff445c705e9d7a",
       "version_major": 2,
       "version_minor": 0
      },
      "text/plain": [
       "wakeboard3:   0%|          | 0/2 [00:00<?, ?it/s]"
      ]
     },
     "metadata": {},
     "output_type": "display_data"
    },
    {
     "data": {
      "application/vnd.jupyter.widget-view+json": {
       "model_id": "abeaf11c0a024f7fa1cf50b4aaf35469",
       "version_major": 2,
       "version_minor": 0
      },
      "text/plain": [
       "wakeboard4:   0%|          | 0/2 [00:00<?, ?it/s]"
      ]
     },
     "metadata": {},
     "output_type": "display_data"
    },
    {
     "data": {
      "application/vnd.jupyter.widget-view+json": {
       "model_id": "7571c70ff98140ae83105912e461c3be",
       "version_major": 2,
       "version_minor": 0
      },
      "text/plain": [
       "wakeboard5:   0%|          | 0/2 [00:00<?, ?it/s]"
      ]
     },
     "metadata": {},
     "output_type": "display_data"
    },
    {
     "data": {
      "application/vnd.jupyter.widget-view+json": {
       "model_id": "fd4b227097e442da8772be1a01ac14ef",
       "version_major": 2,
       "version_minor": 0
      },
      "text/plain": [
       "wakeboard6:   0%|          | 0/2 [00:00<?, ?it/s]"
      ]
     },
     "metadata": {},
     "output_type": "display_data"
    },
    {
     "data": {
      "application/vnd.jupyter.widget-view+json": {
       "model_id": "bd74fdaf79f24b9aa6637c085963ce68",
       "version_major": 2,
       "version_minor": 0
      },
      "text/plain": [
       "wakeboard7:   0%|          | 0/2 [00:00<?, ?it/s]"
      ]
     },
     "metadata": {},
     "output_type": "display_data"
    },
    {
     "data": {
      "application/vnd.jupyter.widget-view+json": {
       "model_id": "800037aa63e0413c8fc859361dd4c29a",
       "version_major": 2,
       "version_minor": 0
      },
      "text/plain": [
       "wakeboard8:   0%|          | 0/2 [00:00<?, ?it/s]"
      ]
     },
     "metadata": {},
     "output_type": "display_data"
    },
    {
     "data": {
      "application/vnd.jupyter.widget-view+json": {
       "model_id": "a9076be0deea4dcfbebc6e1d81a38a76",
       "version_major": 2,
       "version_minor": 0
      },
      "text/plain": [
       "wakeboard9:   0%|          | 0/2 [00:00<?, ?it/s]"
      ]
     },
     "metadata": {},
     "output_type": "display_data"
    }
   ],
   "source": [
    "for clazz in clazz_list:\n",
    "    clazz_dir = os.path.join(root_dir, clazz)\n",
    "    sample_list = os.listdir(clazz_dir)\n",
    "    for sample in tq.tqdm(sample_list, desc=f'{clazz}'):\n",
    "        # 跳过misc\n",
    "        if sample.endswith('_misc.tsv'):\n",
    "            continue\n",
    "        \n",
    "        sample_name = sample.replace('.tsv', '')\n",
    "        sample_path = os.path.join(clazz_dir, sample)\n",
    "        eye_data = pd.read_csv(sample_path, sep='\\t')\n",
    "        video_frame_num = len(pd.read_csv(os.path.join(lasot_dir, clazz, sample_name, 'groundtruth.txt'), delimiter=',', header=None, dtype=np.int64, na_filter=False).values)\n",
    "\n",
    "        video_frame_eye = []\n",
    "        final_result = []\n",
    "        \n",
    "        for eye_index in range(len(eye_data['is_frame_terminal'])):\n",
    "            is_frame_terminal = eye_data['is_frame_terminal'][eye_index]\n",
    "            is_valid = eye_data['is_valid'][eye_index]\n",
    "            \n",
    "            # 跳过无效数据\n",
    "            if is_valid == 1:\n",
    "                w = eye_data['Presented Media width'][eye_index]\n",
    "                h = eye_data['Presented Media height'][eye_index]\n",
    "                x = eye_data['Gaze point X (MCSnorm)'][eye_index]\n",
    "                y = eye_data['Gaze point Y (MCSnorm)'][eye_index]\n",
    "                video_frame_eye.append((int(x*w), int(y*h)))\n",
    "            \n",
    "            # 终止帧\n",
    "            if is_frame_terminal == 1:\n",
    "                # 判断1个video帧内的眼动数据是否都是无效，若是赋值为(0, 0)\n",
    "                if len(video_frame_eye) == 0: video_frame_eye = np.array([0, 0], dtype=np.int64)\n",
    "                else:\n",
    "                    video_frame_eye = np.array(video_frame_eye)\n",
    "                    video_frame_eye = np.mean(video_frame_eye, axis=0, dtype=np.int64)\n",
    "                final_result.append(video_frame_eye)\n",
    "                video_frame_eye = []\n",
    "            \n",
    "            # 跳过多余的眼动数据\n",
    "            if len(final_result) == video_frame_num:\n",
    "                break\n",
    "        \n",
    "        # 保存\n",
    "        output_path = os.path.join(output_dir, clazz)\n",
    "        os.makedirs(output_path, exist_ok=True)\n",
    "        np.savetxt(os.path.join(output_path, f'{sample_name}.txt'), np.array(final_result), fmt='%d', delimiter=',')"
   ]
  }
 ],
 "metadata": {
  "kernelspec": {
   "display_name": "seqtrack",
   "language": "python",
   "name": "python3"
  },
  "language_info": {
   "codemirror_mode": {
    "name": "ipython",
    "version": 3
   },
   "file_extension": ".py",
   "mimetype": "text/x-python",
   "name": "python",
   "nbconvert_exporter": "python",
   "pygments_lexer": "ipython3",
   "version": "3.8.19"
  }
 },
 "nbformat": 4,
 "nbformat_minor": 2
}
